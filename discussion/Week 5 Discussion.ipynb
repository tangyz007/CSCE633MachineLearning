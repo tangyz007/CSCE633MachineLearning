{
 "cells": [
  {
   "cell_type": "markdown",
   "metadata": {},
   "source": [
    "# Week 5 Discussion: SVM: The Impact of Kernels"
   ]
  },
  {
   "cell_type": "markdown",
   "metadata": {},
   "source": [
    "## Objectives"
   ]
  },
  {
   "cell_type": "markdown",
   "metadata": {},
   "source": [
    "In this week's discussion, we will learn:\n",
    "* Effect of different kernels on SVM performance\n",
    "* Using embarrassingly parallel tools for grid search"
   ]
  },
  {
   "cell_type": "markdown",
   "metadata": {},
   "source": [
    "## Sources"
   ]
  },
  {
   "cell_type": "markdown",
   "metadata": {},
   "source": [
    "This discussion on SVMs is partly based on p. 79-90, 105-110 of \"Foundations of Machine Learning\" by Mehryar Mohri, Afshin Rostamizadeh, and Ameet Talwalkar. "
   ]
  },
  {
   "cell_type": "markdown",
   "metadata": {},
   "source": [
    "## Preparing the Data"
   ]
  },
  {
   "cell_type": "markdown",
   "metadata": {},
   "source": [
    "Before importing the data, as usual, we import _pandas_ library to simplify data manipulation."
   ]
  },
  {
   "cell_type": "code",
   "execution_count": 1,
   "metadata": {},
   "outputs": [],
   "source": [
    "import pandas as pd"
   ]
  },
  {
   "cell_type": "markdown",
   "metadata": {},
   "source": [
    "In this discussion, similar to previous discussions, we use _Hitters_ dataset which is the data collected from Major League Baseball (MLB) data from the 1986 and 1987 seasons. We want to predict the new league of each player at the end of the season based on their performance in the previous league. For more information on the dataset, please look it up!"
   ]
  },
  {
   "cell_type": "code",
   "execution_count": 2,
   "metadata": {},
   "outputs": [],
   "source": [
    "#the data can be downloaded from \"https://github.com/jcrouser/islr-python/blob/master/data/Hitters.csv\"\n",
    "df = pd.read_csv('Hitters.csv')"
   ]
  },
  {
   "cell_type": "markdown",
   "metadata": {},
   "source": [
    "We now print out the dataset to gain more insight in it:"
   ]
  },
  {
   "cell_type": "code",
   "execution_count": 3,
   "metadata": {},
   "outputs": [
    {
     "name": "stdout",
     "output_type": "stream",
     "text": [
      "              Player  AtBat  Hits  HmRun  Runs  RBI  Walks  Years  CAtBat  \\\n",
      "0     -Andy Allanson    293    66      1    30   29     14      1     293   \n",
      "1        -Alan Ashby    315    81      7    24   38     39     14    3449   \n",
      "2       -Alvin Davis    479   130     18    66   72     76      3    1624   \n",
      "3      -Andre Dawson    496   141     20    65   78     37     11    5628   \n",
      "4  -Andres Galarraga    321    87     10    39   42     30      2     396   \n",
      "\n",
      "   CHits    ...      CRuns  CRBI  CWalks  League Division PutOuts  Assists  \\\n",
      "0     66    ...         30    29      14       A        E     446       33   \n",
      "1    835    ...        321   414     375       N        W     632       43   \n",
      "2    457    ...        224   266     263       A        W     880       82   \n",
      "3   1575    ...        828   838     354       N        E     200       11   \n",
      "4    101    ...         48    46      33       N        E     805       40   \n",
      "\n",
      "   Errors  Salary  NewLeague  \n",
      "0      20     NaN          A  \n",
      "1      10   475.0          N  \n",
      "2      14   480.0          A  \n",
      "3       3   500.0          N  \n",
      "4       4    91.5          N  \n",
      "\n",
      "[5 rows x 21 columns]\n"
     ]
    }
   ],
   "source": [
    "print (df.head(5))"
   ]
  },
  {
   "cell_type": "markdown",
   "metadata": {},
   "source": [
    "For imputation, similar to the past week, we remove all the rows containing any missing values."
   ]
  },
  {
   "cell_type": "markdown",
   "metadata": {},
   "source": [
    "# Handling the Missing Data, Still the Easiest Version"
   ]
  },
  {
   "cell_type": "markdown",
   "metadata": {},
   "source": [
    "This week, we will not remove the rows with missing values and we perform mean imputation. We perform that after train-test split."
   ]
  },
  {
   "cell_type": "code",
   "execution_count": 4,
   "metadata": {},
   "outputs": [],
   "source": [
    "df.dropna(inplace=True)"
   ]
  },
  {
   "cell_type": "markdown",
   "metadata": {},
   "source": [
    "As discussed above, the _new leage_ column in the dataset will be our label and others will be our features. We select all the columns, except for _NewLeague_, as our features and select _NewLeague_ as our label."
   ]
  },
  {
   "cell_type": "code",
   "execution_count": 5,
   "metadata": {},
   "outputs": [],
   "source": [
    "X = df[['AtBat','Hits','HmRun','Runs','RBI','Walks','Years','CAtBat','CHits','CHmRun','CRuns','CRBI','CWalks','League','Division','PutOuts','Assists','Errors','Salary']]\n",
    "y = df[['NewLeague']]"
   ]
  },
  {
   "cell_type": "markdown",
   "metadata": {},
   "source": [
    "Then, we do one-hot encoding to get the final stage of features:"
   ]
  },
  {
   "cell_type": "code",
   "execution_count": 6,
   "metadata": {},
   "outputs": [],
   "source": [
    "X_cat = X.select_dtypes(exclude=['int64', 'float64'])                                                                                                         \n",
    "X_dog = X.select_dtypes(include=['int64', 'float64'])                                                                                                         \n",
    "                                                                                                                                                              \n",
    "X_cat = pd.get_dummies(X_cat)                                                                                                                                 \n",
    "X = pd.concat([X_cat, X_dog], axis=1)   "
   ]
  },
  {
   "cell_type": "markdown",
   "metadata": {},
   "source": [
    "As discussed last week, changing the name of the outputs to numbers from $0$ to $k-1$ with $k$ being the number of different classes we have:"
   ]
  },
  {
   "cell_type": "code",
   "execution_count": 7,
   "metadata": {},
   "outputs": [],
   "source": [
    "NewLeague2number_dict = {\n",
    "    'A':0,\n",
    "    'N':1\n",
    "}\n",
    "\n",
    "y=y.replace({\"NewLeague\": NewLeague2number_dict})"
   ]
  },
  {
   "cell_type": "markdown",
   "metadata": {},
   "source": [
    "## A Short Recap on SVM"
   ]
  },
  {
   "cell_type": "markdown",
   "metadata": {},
   "source": [
    "In our linear classification problem, considering our input space a subset of $\\mathbb{R}^N$ with $N\\geq1$, our hypothesis set $H$ consists of hyperplanes which can be defined as:"
   ]
  },
  {
   "cell_type": "markdown",
   "metadata": {},
   "source": [
    "$$\n",
    "H = \\{x\\rightarrow sign(w.x+b): w \\in \\mathbb{R}^N,b \\in \\mathbb{R}\\}\n",
    "$$"
   ]
  },
  {
   "cell_type": "markdown",
   "metadata": {},
   "source": [
    "A hypothesis of this form labels positively all the points lying on one side, while labeling the others negatively."
   ]
  },
  {
   "cell_type": "markdown",
   "metadata": {},
   "source": [
    "### General Non-separable Case"
   ]
  },
  {
   "cell_type": "markdown",
   "metadata": {},
   "source": [
    "In the general case where the data points are non-separable, the constraints imposed on the model by each data point can be written as:\n",
    "<br>\n",
    "$$\n",
    "\\exists \\xi_i \\mid y_i(w.x_i+b)\\geq 1-\\xi_i\n",
    "$$\n",
    "Therefore, the optimization problem would be:\n",
    "<br>\n",
    "$$\n",
    "\\underset{w,b,\\xi}{min} \\;\\; \\frac{1}{2}{\\|w\\|}^2 + C\\sum_{n=1}^{m}\\xi_i \\\\\n",
    "\\text{subject to:} \\;\\; y_i(w.x_i+b)\\geq 1-\\xi_i \\; \\wedge  \\; \\xi_i \\geq 0, \\; i \\in [m]\n",
    "$$"
   ]
  },
  {
   "cell_type": "markdown",
   "metadata": {},
   "source": [
    "After the solving this optimization problem, we will have the hypothesis solution $h$ as:\n",
    "<br>\n",
    "<br>\n",
    "$$\n",
    "\\begin{cases}\n",
    "  h(x)=sgn(\\sum_{i=1}^{m}\\alpha_iy_i(x_i.x)+b)\\\\    \n",
    "  b = y_i - \\sum_{j=1}^{m}\\alpha_jy_j(x_j.x_i)   \n",
    "\\end{cases}\n",
    "$$\n",
    "Where for any support vector $x_i$, $w.x_i+b=y_i$.\n",
    "\n",
    "Since PDS kernels implicitly define inner products, we can replace the innter products $x_j.x_i$ in formulas above with $K(x_j.x_i)$. Therefore, we will have:\n",
    "<br>\n",
    "<br>\n",
    "$$\n",
    "\\begin{cases}\n",
    "  h(x)=sgn(\\sum_{i=1}^{m}\\alpha_iy_iK(x_j.x_i)+b)\\\\    \n",
    "  b = y_i - \\sum_{j=1}^{m}\\alpha_jy_jK(x_j.x_i)   \n",
    "\\end{cases}\n",
    "$$"
   ]
  },
  {
   "cell_type": "markdown",
   "metadata": {},
   "source": [
    "## Cross-validating Different Kernels with Different Arguments"
   ]
  },
  {
   "cell_type": "markdown",
   "metadata": {},
   "source": [
    "In this week's discussion, we compare different kernels with different parameters. For each specific type of kernel, we determine the best value $C$ (in the equation above) in addition to the parameters specific to each kernel."
   ]
  },
  {
   "cell_type": "markdown",
   "metadata": {},
   "source": [
    "## Takes long? Make It <font color='red'>Parallel</font> !"
   ]
  },
  {
   "cell_type": "markdown",
   "metadata": {},
   "source": [
    "Last time we saw a way of handling computations that take long: saving results on disk for future use. Now we see another way of reducing the computation load: parallelization. The computation about to be done here is cross-validating different values of parameters for different kernels. In our previous approach, there was a loop in which a model was trained and tested based on every value. Since different models are independant in the training/testing process, we intend to parallelize some of the computation. Parallelization can be done at different levels. Now we intend to do parallelization at cross-validation level, meaning that the K-fold cross validations for a kernell with all the different combinations parameters be performed at the same time. \n",
    "<br>\n",
    "For implementing our parallelization, we define a function that performs the K-fold cross-validation on a kernel with specific values for parameters and outputs the average AUC. This is the function the execution of which is to be parallelized:"
   ]
  },
  {
   "cell_type": "code",
   "execution_count": 8,
   "metadata": {},
   "outputs": [],
   "source": [
    "from sklearn.svm import SVC\n",
    "from sklearn.model_selection import StratifiedKFold\n",
    "from sklearn.metrics import roc_auc_score\n",
    "from sklearn.preprocessing import Imputer\n",
    "\n",
    "\n",
    "def cross_validate_single_kernel(X, y, kernel, n_folds, args):\n",
    "    \n",
    "    auc = 0\n",
    "    skf=StratifiedKFold(n_splits=n_folds, shuffle=True)\n",
    "    for train_index, test_index in skf.split(X, y):\n",
    "        X_train, X_test = X.iloc[train_index], X.iloc[test_index]\n",
    "        y_train, y_test = y.iloc[train_index].values.ravel(), y.iloc[test_index].values.ravel()\n",
    "\n",
    "        print (\"  *\")\n",
    "        ##normalization\n",
    "        X_train_min, X_train_max = X_train.min(), X_train.max()\n",
    "        X_train = (X_train - X_train_min)/(X_train_max-X_train_min)\n",
    "        X_test  = (X_test  - X_train_min)/(X_train_max-X_train_min)\n",
    "\n",
    "        X_train = X_train[X_train.columns[~(X_train_min==X_train_max)]]\n",
    "        X_test  = X_test [X_test.columns[~(X_train_min==X_train_max)]]\n",
    "\n",
    "        ##train/test\n",
    "        svm = SVC(C=args[\"c_val\"], kernel=kernel, tol=1e-7, shrinking=False, gamma=args[\"gamma_val\"], degree = args[\"d_val\"])\n",
    "        svm.fit(X_train, y_train)\n",
    "\n",
    "        pred   =   svm.predict(X_test)\n",
    "        auc   += roc_auc_score(y_test, pred)/n_folds\n",
    "    \n",
    "    return auc"
   ]
  },
  {
   "cell_type": "markdown",
   "metadata": {},
   "source": [
    "The function below cross validates a specific kernel with a range of different values for the hyperparameters. Since it uses all the combinations of the values in the product, it first makes sure none of the vectors are empty because that would make the whole product empty. Then it uses functions _parallel_ and _delayed_ to create a number of parallel jobs. The output would be a vector of values returned by the parallel execution of the passed function with the same order of the argument vector. We then create another vector, containing the corresponding names. The output of the function would be a dictionary mapping the names to the corresponding results."
   ]
  },
  {
   "cell_type": "code",
   "execution_count": 9,
   "metadata": {},
   "outputs": [],
   "source": [
    "from joblib import Parallel, delayed\n",
    "import multiprocessing \n",
    "from itertools import product\n",
    "\n",
    "num_processes = 30\n",
    "\n",
    "def cross_validate_kernels(X, y, kernel, n_folds, args):\n",
    "    \n",
    "    for key in args.keys():\n",
    "        if len(args[key])==0:\n",
    "            args[key]=[1]\n",
    "\n",
    "    results = Parallel(n_jobs=num_processes)(delayed(cross_validate_single_kernel)\\\n",
    "              (X, y, kernel, n_folds,{\"c_val\":c_val, \"gamma_val\":gamma_val, \"d_val\":d_val})\\\n",
    "              for (c_val, gamma_val, d_val) in product(args[\"c_vals\"], args[\"gamma_vals\"], args[\"d_vals\"]))\n",
    "    \n",
    "    names   = [\"kernel:%s__log10_C:%s_log10_gamma:%s__degree:%s\"%(kernel, str(np.log10(c_val)), str(np.log10(gamma_val)), str(d_val))\\\n",
    "              for (c_val, gamma_val, d_val) in product(args[\"c_vals\"], args[\"gamma_vals\"], args[\"d_vals\"])]\n",
    "    \n",
    "    auc_dict = dict(zip(names, results))\n",
    "        \n",
    "    return auc_dict"
   ]
  },
  {
   "cell_type": "markdown",
   "metadata": {},
   "source": [
    "## Saving Results"
   ]
  },
  {
   "cell_type": "markdown",
   "metadata": {},
   "source": [
    "Similar to the previous week, we will save the models in the results folder. In the following piece of code, we first check if it exists, and if not, we will create it:"
   ]
  },
  {
   "cell_type": "code",
   "execution_count": 10,
   "metadata": {},
   "outputs": [],
   "source": [
    "import os\n",
    "\n",
    "rslt_addr = \"./results/\"\n",
    "if not os.path.exists(rslt_addr):\n",
    "    os.makedirs(rslt_addr)"
   ]
  },
  {
   "cell_type": "markdown",
   "metadata": {},
   "source": [
    "In week 4, it was also discussed that the names of the files should be as descriptive as possible so they do not get mixed up. This function produces names for kernel-argument combinations using which the results are saved to files."
   ]
  },
  {
   "cell_type": "code",
   "execution_count": 11,
   "metadata": {},
   "outputs": [],
   "source": [
    "def name_creator(kernel, n_folds, args):\n",
    "\n",
    "    name = \"kernel%s__n_folds%d\"%(kernel, n_folds)\n",
    "    \n",
    "    def describe_in_string(vec, is_degree=False):\n",
    "        \n",
    "        if len(vec)==0:\n",
    "            return \"NA\"\n",
    "        \n",
    "        if not is_degree:\n",
    "            vec = np.log10(vec)\n",
    "            \n",
    "        if len(vec)==1:\n",
    "            return \"%d\"%vec[0]\n",
    "    \n",
    "        return \"%d~%d\"%(np.min(vec), np.max(vec))\n",
    "    \n",
    "    for arg in sorted(args.keys()):\n",
    "        if arg!=\"d_vals\":\n",
    "            name += \"__log10_%s%s\"%(arg, describe_in_string(args[arg]))\n",
    "        else:\n",
    "            name += \"__%s%s\"%(arg, describe_in_string(args[arg], True))\n",
    "    \n",
    "    return name"
   ]
  },
  {
   "cell_type": "markdown",
   "metadata": {},
   "source": [
    "We see an example here:"
   ]
  },
  {
   "cell_type": "code",
   "execution_count": 12,
   "metadata": {},
   "outputs": [
    {
     "name": "stdout",
     "output_type": "stream",
     "text": [
      "\n",
      " kernelpoly__n_folds5__log10_c_vals-10~10__d_vals1~5__log10_gamma_vals-10~10 \n",
      "\n",
      "\n"
     ]
    }
   ],
   "source": [
    "import numpy as np\n",
    "\n",
    "kernel     = \"poly\"\n",
    "n_folds    = 5\n",
    "c_vals     = np.power(float(10), range(-10, 10 + 1))\n",
    "gamma_vals = np.power(float(10), range(-10, 10 + 1))\n",
    "d_vals     = range(1,5+1)\n",
    "\n",
    "print ('\\n'*1, name_creator(kernel, n_folds, {\"d_vals\":d_vals, \"gamma_vals\":gamma_vals, \"c_vals\":c_vals}), '\\n'*2)"
   ]
  },
  {
   "cell_type": "code",
   "execution_count": 14,
   "metadata": {},
   "outputs": [],
   "source": [
    "import pickle\n",
    "import os\n",
    "import numpy as np\n",
    "\n",
    "def load_it_or_compute_it (X, y, kernel, n_folds, args):\n",
    "    \n",
    "    rslt_dict_name = name_creator(kernel, n_folds, args)\n",
    "    rslt_dict_addr = os.path.join(rslt_addr, rslt_dict_name)\n",
    "    \n",
    "    print (rslt_dict_name)\n",
    "    \n",
    "    if os.path.isfile(rslt_dict_addr):\n",
    "        print (\"FOUND!\")\n",
    "        with open(rslt_dict_addr,\"rb\") as rslt_dict_handle:\n",
    "            rslt_dict = pickle.load(rslt_dict_handle)\n",
    "    else:\n",
    "        rslt_dict = cross_validate_kernels(X, y, kernel, n_folds, args)\n",
    "        with open(rslt_dict_addr,\"wb\") as rslt_dict_handle:\n",
    "            pickle.dump(rslt_dict, rslt_dict_handle)\n",
    "\n",
    "    return rslt_dict"
   ]
  },
  {
   "cell_type": "markdown",
   "metadata": {},
   "source": [
    "### RBF Kernel"
   ]
  },
  {
   "cell_type": "markdown",
   "metadata": {},
   "source": [
    "The Radial Basis Function (RBF) can be written as:\n",
    "<br>\n",
    "$$\n",
    "\\LARGE\n",
    "K(x, x') = e^{\\gamma{\\|x-x'\\|}^2}\n",
    "\\normalsize\n",
    "$$\n",
    "<br>\n",
    "So there will be two parameters to cross-validate: C, and $\\gamma$."
   ]
  },
  {
   "cell_type": "code",
   "execution_count": 15,
   "metadata": {
    "scrolled": true
   },
   "outputs": [
    {
     "name": "stdout",
     "output_type": "stream",
     "text": [
      "kernelrbf__n_folds5__log10_c_vals-9~9__d_valsNA__log10_gamma_vals-9~9\n",
      "FOUND!\n"
     ]
    },
    {
     "data": {
      "text/plain": [
       "{'kernel:rbf__log10_C:-1.0_log10_gamma:-1.0__degree:1': 0.9315755336617406,\n",
       " 'kernel:rbf__log10_C:-1.0_log10_gamma:-2.0__degree:1': 0.5,\n",
       " 'kernel:rbf__log10_C:-1.0_log10_gamma:-3.0__degree:1': 0.5,\n",
       " 'kernel:rbf__log10_C:-1.0_log10_gamma:-4.0__degree:1': 0.5,\n",
       " 'kernel:rbf__log10_C:-1.0_log10_gamma:-5.0__degree:1': 0.5,\n",
       " 'kernel:rbf__log10_C:-1.0_log10_gamma:-6.0__degree:1': 0.5,\n",
       " 'kernel:rbf__log10_C:-1.0_log10_gamma:-7.0__degree:1': 0.5,\n",
       " 'kernel:rbf__log10_C:-1.0_log10_gamma:-8.0__degree:1': 0.5,\n",
       " 'kernel:rbf__log10_C:-1.0_log10_gamma:-9.0__degree:1': 0.5,\n",
       " 'kernel:rbf__log10_C:-1.0_log10_gamma:0.0__degree:1': 0.9281986863711,\n",
       " 'kernel:rbf__log10_C:-1.0_log10_gamma:1.0__degree:1': 0.5,\n",
       " 'kernel:rbf__log10_C:-1.0_log10_gamma:2.0__degree:1': 0.5,\n",
       " 'kernel:rbf__log10_C:-1.0_log10_gamma:3.0__degree:1': 0.5,\n",
       " 'kernel:rbf__log10_C:-1.0_log10_gamma:4.0__degree:1': 0.5,\n",
       " 'kernel:rbf__log10_C:-1.0_log10_gamma:5.0__degree:1': 0.5,\n",
       " 'kernel:rbf__log10_C:-1.0_log10_gamma:6.0__degree:1': 0.5,\n",
       " 'kernel:rbf__log10_C:-1.0_log10_gamma:7.0__degree:1': 0.5,\n",
       " 'kernel:rbf__log10_C:-1.0_log10_gamma:8.0__degree:1': 0.5,\n",
       " 'kernel:rbf__log10_C:-1.0_log10_gamma:9.0__degree:1': 0.5,\n",
       " 'kernel:rbf__log10_C:-2.0_log10_gamma:-1.0__degree:1': 0.5,\n",
       " 'kernel:rbf__log10_C:-2.0_log10_gamma:-2.0__degree:1': 0.5,\n",
       " 'kernel:rbf__log10_C:-2.0_log10_gamma:-3.0__degree:1': 0.5,\n",
       " 'kernel:rbf__log10_C:-2.0_log10_gamma:-4.0__degree:1': 0.5,\n",
       " 'kernel:rbf__log10_C:-2.0_log10_gamma:-5.0__degree:1': 0.5,\n",
       " 'kernel:rbf__log10_C:-2.0_log10_gamma:-6.0__degree:1': 0.5,\n",
       " 'kernel:rbf__log10_C:-2.0_log10_gamma:-7.0__degree:1': 0.5,\n",
       " 'kernel:rbf__log10_C:-2.0_log10_gamma:-8.0__degree:1': 0.5,\n",
       " 'kernel:rbf__log10_C:-2.0_log10_gamma:-9.0__degree:1': 0.5,\n",
       " 'kernel:rbf__log10_C:-2.0_log10_gamma:0.0__degree:1': 0.5,\n",
       " 'kernel:rbf__log10_C:-2.0_log10_gamma:1.0__degree:1': 0.5,\n",
       " 'kernel:rbf__log10_C:-2.0_log10_gamma:2.0__degree:1': 0.5,\n",
       " 'kernel:rbf__log10_C:-2.0_log10_gamma:3.0__degree:1': 0.5,\n",
       " 'kernel:rbf__log10_C:-2.0_log10_gamma:4.0__degree:1': 0.5,\n",
       " 'kernel:rbf__log10_C:-2.0_log10_gamma:5.0__degree:1': 0.5,\n",
       " 'kernel:rbf__log10_C:-2.0_log10_gamma:6.0__degree:1': 0.5,\n",
       " 'kernel:rbf__log10_C:-2.0_log10_gamma:7.0__degree:1': 0.5,\n",
       " 'kernel:rbf__log10_C:-2.0_log10_gamma:8.0__degree:1': 0.5,\n",
       " 'kernel:rbf__log10_C:-2.0_log10_gamma:9.0__degree:1': 0.5,\n",
       " 'kernel:rbf__log10_C:-3.0_log10_gamma:-1.0__degree:1': 0.5,\n",
       " 'kernel:rbf__log10_C:-3.0_log10_gamma:-2.0__degree:1': 0.5,\n",
       " 'kernel:rbf__log10_C:-3.0_log10_gamma:-3.0__degree:1': 0.5,\n",
       " 'kernel:rbf__log10_C:-3.0_log10_gamma:-4.0__degree:1': 0.5,\n",
       " 'kernel:rbf__log10_C:-3.0_log10_gamma:-5.0__degree:1': 0.5,\n",
       " 'kernel:rbf__log10_C:-3.0_log10_gamma:-6.0__degree:1': 0.5,\n",
       " 'kernel:rbf__log10_C:-3.0_log10_gamma:-7.0__degree:1': 0.5,\n",
       " 'kernel:rbf__log10_C:-3.0_log10_gamma:-8.0__degree:1': 0.5,\n",
       " 'kernel:rbf__log10_C:-3.0_log10_gamma:-9.0__degree:1': 0.5,\n",
       " 'kernel:rbf__log10_C:-3.0_log10_gamma:0.0__degree:1': 0.5,\n",
       " 'kernel:rbf__log10_C:-3.0_log10_gamma:1.0__degree:1': 0.5,\n",
       " 'kernel:rbf__log10_C:-3.0_log10_gamma:2.0__degree:1': 0.5,\n",
       " 'kernel:rbf__log10_C:-3.0_log10_gamma:3.0__degree:1': 0.5,\n",
       " 'kernel:rbf__log10_C:-3.0_log10_gamma:4.0__degree:1': 0.5,\n",
       " 'kernel:rbf__log10_C:-3.0_log10_gamma:5.0__degree:1': 0.5,\n",
       " 'kernel:rbf__log10_C:-3.0_log10_gamma:6.0__degree:1': 0.5,\n",
       " 'kernel:rbf__log10_C:-3.0_log10_gamma:7.0__degree:1': 0.5,\n",
       " 'kernel:rbf__log10_C:-3.0_log10_gamma:8.0__degree:1': 0.5,\n",
       " 'kernel:rbf__log10_C:-3.0_log10_gamma:9.0__degree:1': 0.5,\n",
       " 'kernel:rbf__log10_C:-4.0_log10_gamma:-1.0__degree:1': 0.5,\n",
       " 'kernel:rbf__log10_C:-4.0_log10_gamma:-2.0__degree:1': 0.5,\n",
       " 'kernel:rbf__log10_C:-4.0_log10_gamma:-3.0__degree:1': 0.5,\n",
       " 'kernel:rbf__log10_C:-4.0_log10_gamma:-4.0__degree:1': 0.5,\n",
       " 'kernel:rbf__log10_C:-4.0_log10_gamma:-5.0__degree:1': 0.5,\n",
       " 'kernel:rbf__log10_C:-4.0_log10_gamma:-6.0__degree:1': 0.5,\n",
       " 'kernel:rbf__log10_C:-4.0_log10_gamma:-7.0__degree:1': 0.5,\n",
       " 'kernel:rbf__log10_C:-4.0_log10_gamma:-8.0__degree:1': 0.5,\n",
       " 'kernel:rbf__log10_C:-4.0_log10_gamma:-9.0__degree:1': 0.5,\n",
       " 'kernel:rbf__log10_C:-4.0_log10_gamma:0.0__degree:1': 0.5,\n",
       " 'kernel:rbf__log10_C:-4.0_log10_gamma:1.0__degree:1': 0.5,\n",
       " 'kernel:rbf__log10_C:-4.0_log10_gamma:2.0__degree:1': 0.5,\n",
       " 'kernel:rbf__log10_C:-4.0_log10_gamma:3.0__degree:1': 0.5,\n",
       " 'kernel:rbf__log10_C:-4.0_log10_gamma:4.0__degree:1': 0.5,\n",
       " 'kernel:rbf__log10_C:-4.0_log10_gamma:5.0__degree:1': 0.5,\n",
       " 'kernel:rbf__log10_C:-4.0_log10_gamma:6.0__degree:1': 0.5,\n",
       " 'kernel:rbf__log10_C:-4.0_log10_gamma:7.0__degree:1': 0.5,\n",
       " 'kernel:rbf__log10_C:-4.0_log10_gamma:8.0__degree:1': 0.5,\n",
       " 'kernel:rbf__log10_C:-4.0_log10_gamma:9.0__degree:1': 0.5,\n",
       " 'kernel:rbf__log10_C:-5.0_log10_gamma:-1.0__degree:1': 0.5,\n",
       " 'kernel:rbf__log10_C:-5.0_log10_gamma:-2.0__degree:1': 0.5,\n",
       " 'kernel:rbf__log10_C:-5.0_log10_gamma:-3.0__degree:1': 0.5,\n",
       " 'kernel:rbf__log10_C:-5.0_log10_gamma:-4.0__degree:1': 0.5,\n",
       " 'kernel:rbf__log10_C:-5.0_log10_gamma:-5.0__degree:1': 0.5,\n",
       " 'kernel:rbf__log10_C:-5.0_log10_gamma:-6.0__degree:1': 0.5,\n",
       " 'kernel:rbf__log10_C:-5.0_log10_gamma:-7.0__degree:1': 0.5,\n",
       " 'kernel:rbf__log10_C:-5.0_log10_gamma:-8.0__degree:1': 0.5,\n",
       " 'kernel:rbf__log10_C:-5.0_log10_gamma:-9.0__degree:1': 0.5,\n",
       " 'kernel:rbf__log10_C:-5.0_log10_gamma:0.0__degree:1': 0.5,\n",
       " 'kernel:rbf__log10_C:-5.0_log10_gamma:1.0__degree:1': 0.5,\n",
       " 'kernel:rbf__log10_C:-5.0_log10_gamma:2.0__degree:1': 0.5,\n",
       " 'kernel:rbf__log10_C:-5.0_log10_gamma:3.0__degree:1': 0.5,\n",
       " 'kernel:rbf__log10_C:-5.0_log10_gamma:4.0__degree:1': 0.5,\n",
       " 'kernel:rbf__log10_C:-5.0_log10_gamma:5.0__degree:1': 0.5,\n",
       " 'kernel:rbf__log10_C:-5.0_log10_gamma:6.0__degree:1': 0.5,\n",
       " 'kernel:rbf__log10_C:-5.0_log10_gamma:7.0__degree:1': 0.5,\n",
       " 'kernel:rbf__log10_C:-5.0_log10_gamma:8.0__degree:1': 0.5,\n",
       " 'kernel:rbf__log10_C:-5.0_log10_gamma:9.0__degree:1': 0.5,\n",
       " 'kernel:rbf__log10_C:-6.0_log10_gamma:-1.0__degree:1': 0.5,\n",
       " 'kernel:rbf__log10_C:-6.0_log10_gamma:-2.0__degree:1': 0.5,\n",
       " 'kernel:rbf__log10_C:-6.0_log10_gamma:-3.0__degree:1': 0.5,\n",
       " 'kernel:rbf__log10_C:-6.0_log10_gamma:-4.0__degree:1': 0.5,\n",
       " 'kernel:rbf__log10_C:-6.0_log10_gamma:-5.0__degree:1': 0.5,\n",
       " 'kernel:rbf__log10_C:-6.0_log10_gamma:-6.0__degree:1': 0.5,\n",
       " 'kernel:rbf__log10_C:-6.0_log10_gamma:-7.0__degree:1': 0.5,\n",
       " 'kernel:rbf__log10_C:-6.0_log10_gamma:-8.0__degree:1': 0.5,\n",
       " 'kernel:rbf__log10_C:-6.0_log10_gamma:-9.0__degree:1': 0.5,\n",
       " 'kernel:rbf__log10_C:-6.0_log10_gamma:0.0__degree:1': 0.5,\n",
       " 'kernel:rbf__log10_C:-6.0_log10_gamma:1.0__degree:1': 0.5,\n",
       " 'kernel:rbf__log10_C:-6.0_log10_gamma:2.0__degree:1': 0.5,\n",
       " 'kernel:rbf__log10_C:-6.0_log10_gamma:3.0__degree:1': 0.5,\n",
       " 'kernel:rbf__log10_C:-6.0_log10_gamma:4.0__degree:1': 0.5,\n",
       " 'kernel:rbf__log10_C:-6.0_log10_gamma:5.0__degree:1': 0.5,\n",
       " 'kernel:rbf__log10_C:-6.0_log10_gamma:6.0__degree:1': 0.5,\n",
       " 'kernel:rbf__log10_C:-6.0_log10_gamma:7.0__degree:1': 0.5,\n",
       " 'kernel:rbf__log10_C:-6.0_log10_gamma:8.0__degree:1': 0.5,\n",
       " 'kernel:rbf__log10_C:-6.0_log10_gamma:9.0__degree:1': 0.5,\n",
       " 'kernel:rbf__log10_C:-7.0_log10_gamma:-1.0__degree:1': 0.5,\n",
       " 'kernel:rbf__log10_C:-7.0_log10_gamma:-2.0__degree:1': 0.5,\n",
       " 'kernel:rbf__log10_C:-7.0_log10_gamma:-3.0__degree:1': 0.5,\n",
       " 'kernel:rbf__log10_C:-7.0_log10_gamma:-4.0__degree:1': 0.5,\n",
       " 'kernel:rbf__log10_C:-7.0_log10_gamma:-5.0__degree:1': 0.5,\n",
       " 'kernel:rbf__log10_C:-7.0_log10_gamma:-6.0__degree:1': 0.5,\n",
       " 'kernel:rbf__log10_C:-7.0_log10_gamma:-7.0__degree:1': 0.5,\n",
       " 'kernel:rbf__log10_C:-7.0_log10_gamma:-8.0__degree:1': 0.5,\n",
       " 'kernel:rbf__log10_C:-7.0_log10_gamma:-9.0__degree:1': 0.5,\n",
       " 'kernel:rbf__log10_C:-7.0_log10_gamma:0.0__degree:1': 0.5,\n",
       " 'kernel:rbf__log10_C:-7.0_log10_gamma:1.0__degree:1': 0.5,\n",
       " 'kernel:rbf__log10_C:-7.0_log10_gamma:2.0__degree:1': 0.5,\n",
       " 'kernel:rbf__log10_C:-7.0_log10_gamma:3.0__degree:1': 0.5,\n",
       " 'kernel:rbf__log10_C:-7.0_log10_gamma:4.0__degree:1': 0.5,\n",
       " 'kernel:rbf__log10_C:-7.0_log10_gamma:5.0__degree:1': 0.5,\n",
       " 'kernel:rbf__log10_C:-7.0_log10_gamma:6.0__degree:1': 0.5,\n",
       " 'kernel:rbf__log10_C:-7.0_log10_gamma:7.0__degree:1': 0.5,\n",
       " 'kernel:rbf__log10_C:-7.0_log10_gamma:8.0__degree:1': 0.5,\n",
       " 'kernel:rbf__log10_C:-7.0_log10_gamma:9.0__degree:1': 0.5,\n",
       " 'kernel:rbf__log10_C:-8.0_log10_gamma:-1.0__degree:1': 0.5,\n",
       " 'kernel:rbf__log10_C:-8.0_log10_gamma:-2.0__degree:1': 0.5,\n",
       " 'kernel:rbf__log10_C:-8.0_log10_gamma:-3.0__degree:1': 0.5,\n",
       " 'kernel:rbf__log10_C:-8.0_log10_gamma:-4.0__degree:1': 0.5,\n",
       " 'kernel:rbf__log10_C:-8.0_log10_gamma:-5.0__degree:1': 0.5,\n",
       " 'kernel:rbf__log10_C:-8.0_log10_gamma:-6.0__degree:1': 0.5,\n",
       " 'kernel:rbf__log10_C:-8.0_log10_gamma:-7.0__degree:1': 0.5,\n",
       " 'kernel:rbf__log10_C:-8.0_log10_gamma:-8.0__degree:1': 0.5,\n",
       " 'kernel:rbf__log10_C:-8.0_log10_gamma:-9.0__degree:1': 0.5,\n",
       " 'kernel:rbf__log10_C:-8.0_log10_gamma:0.0__degree:1': 0.5,\n",
       " 'kernel:rbf__log10_C:-8.0_log10_gamma:1.0__degree:1': 0.5,\n",
       " 'kernel:rbf__log10_C:-8.0_log10_gamma:2.0__degree:1': 0.5,\n",
       " 'kernel:rbf__log10_C:-8.0_log10_gamma:3.0__degree:1': 0.5,\n",
       " 'kernel:rbf__log10_C:-8.0_log10_gamma:4.0__degree:1': 0.5,\n",
       " 'kernel:rbf__log10_C:-8.0_log10_gamma:5.0__degree:1': 0.5,\n",
       " 'kernel:rbf__log10_C:-8.0_log10_gamma:6.0__degree:1': 0.5,\n",
       " 'kernel:rbf__log10_C:-8.0_log10_gamma:7.0__degree:1': 0.5,\n",
       " 'kernel:rbf__log10_C:-8.0_log10_gamma:8.0__degree:1': 0.5,\n",
       " 'kernel:rbf__log10_C:-8.0_log10_gamma:9.0__degree:1': 0.5,\n",
       " 'kernel:rbf__log10_C:-9.0_log10_gamma:-1.0__degree:1': 0.5,\n",
       " 'kernel:rbf__log10_C:-9.0_log10_gamma:-2.0__degree:1': 0.5,\n",
       " 'kernel:rbf__log10_C:-9.0_log10_gamma:-3.0__degree:1': 0.5,\n",
       " 'kernel:rbf__log10_C:-9.0_log10_gamma:-4.0__degree:1': 0.5,\n",
       " 'kernel:rbf__log10_C:-9.0_log10_gamma:-5.0__degree:1': 0.5,\n",
       " 'kernel:rbf__log10_C:-9.0_log10_gamma:-6.0__degree:1': 0.5,\n",
       " 'kernel:rbf__log10_C:-9.0_log10_gamma:-7.0__degree:1': 0.5,\n",
       " 'kernel:rbf__log10_C:-9.0_log10_gamma:-8.0__degree:1': 0.5,\n",
       " 'kernel:rbf__log10_C:-9.0_log10_gamma:-9.0__degree:1': 0.5,\n",
       " 'kernel:rbf__log10_C:-9.0_log10_gamma:0.0__degree:1': 0.5,\n",
       " 'kernel:rbf__log10_C:-9.0_log10_gamma:1.0__degree:1': 0.5,\n",
       " 'kernel:rbf__log10_C:-9.0_log10_gamma:2.0__degree:1': 0.5,\n",
       " 'kernel:rbf__log10_C:-9.0_log10_gamma:3.0__degree:1': 0.5,\n",
       " 'kernel:rbf__log10_C:-9.0_log10_gamma:4.0__degree:1': 0.5,\n",
       " 'kernel:rbf__log10_C:-9.0_log10_gamma:5.0__degree:1': 0.5,\n",
       " 'kernel:rbf__log10_C:-9.0_log10_gamma:6.0__degree:1': 0.5,\n",
       " 'kernel:rbf__log10_C:-9.0_log10_gamma:7.0__degree:1': 0.5,\n",
       " 'kernel:rbf__log10_C:-9.0_log10_gamma:8.0__degree:1': 0.5,\n",
       " 'kernel:rbf__log10_C:-9.0_log10_gamma:9.0__degree:1': 0.5,\n",
       " 'kernel:rbf__log10_C:0.0_log10_gamma:-1.0__degree:1': 0.9312422003284073,\n",
       " 'kernel:rbf__log10_C:0.0_log10_gamma:-2.0__degree:1': 0.9321986863711003,\n",
       " 'kernel:rbf__log10_C:0.0_log10_gamma:-3.0__degree:1': 0.5,\n",
       " 'kernel:rbf__log10_C:0.0_log10_gamma:-4.0__degree:1': 0.5,\n",
       " 'kernel:rbf__log10_C:0.0_log10_gamma:-5.0__degree:1': 0.5,\n",
       " 'kernel:rbf__log10_C:0.0_log10_gamma:-6.0__degree:1': 0.5,\n",
       " 'kernel:rbf__log10_C:0.0_log10_gamma:-7.0__degree:1': 0.5,\n",
       " 'kernel:rbf__log10_C:0.0_log10_gamma:-8.0__degree:1': 0.5,\n",
       " 'kernel:rbf__log10_C:0.0_log10_gamma:-9.0__degree:1': 0.5,\n",
       " 'kernel:rbf__log10_C:0.0_log10_gamma:0.0__degree:1': 0.9317422003284073,\n",
       " 'kernel:rbf__log10_C:0.0_log10_gamma:1.0__degree:1': 0.845908866995074,\n",
       " 'kernel:rbf__log10_C:0.0_log10_gamma:2.0__degree:1': 0.5081666666666667,\n",
       " 'kernel:rbf__log10_C:0.0_log10_gamma:3.0__degree:1': 0.5,\n",
       " 'kernel:rbf__log10_C:0.0_log10_gamma:4.0__degree:1': 0.5,\n",
       " 'kernel:rbf__log10_C:0.0_log10_gamma:5.0__degree:1': 0.5,\n",
       " 'kernel:rbf__log10_C:0.0_log10_gamma:6.0__degree:1': 0.5,\n",
       " 'kernel:rbf__log10_C:0.0_log10_gamma:7.0__degree:1': 0.5,\n",
       " 'kernel:rbf__log10_C:0.0_log10_gamma:8.0__degree:1': 0.5,\n",
       " 'kernel:rbf__log10_C:0.0_log10_gamma:9.0__degree:1': 0.5,\n",
       " 'kernel:rbf__log10_C:1.0_log10_gamma:-1.0__degree:1': 0.9316986863711001,\n",
       " 'kernel:rbf__log10_C:1.0_log10_gamma:-2.0__degree:1': 0.9317783251231526,\n",
       " 'kernel:rbf__log10_C:1.0_log10_gamma:-3.0__degree:1': 0.9318218390804598,\n",
       " 'kernel:rbf__log10_C:1.0_log10_gamma:-4.0__degree:1': 0.5,\n",
       " 'kernel:rbf__log10_C:1.0_log10_gamma:-5.0__degree:1': 0.5,\n",
       " 'kernel:rbf__log10_C:1.0_log10_gamma:-6.0__degree:1': 0.5,\n",
       " 'kernel:rbf__log10_C:1.0_log10_gamma:-7.0__degree:1': 0.5,\n",
       " 'kernel:rbf__log10_C:1.0_log10_gamma:-8.0__degree:1': 0.5,\n",
       " 'kernel:rbf__log10_C:1.0_log10_gamma:-9.0__degree:1': 0.5,\n",
       " 'kernel:rbf__log10_C:1.0_log10_gamma:0.0__degree:1': 0.9170796387520526,\n",
       " 'kernel:rbf__log10_C:1.0_log10_gamma:1.0__degree:1': 0.8333653530377669,\n",
       " 'kernel:rbf__log10_C:1.0_log10_gamma:2.0__degree:1': 0.5083333333333334,\n",
       " 'kernel:rbf__log10_C:1.0_log10_gamma:3.0__degree:1': 0.5,\n",
       " 'kernel:rbf__log10_C:1.0_log10_gamma:4.0__degree:1': 0.5,\n",
       " 'kernel:rbf__log10_C:1.0_log10_gamma:5.0__degree:1': 0.5,\n",
       " 'kernel:rbf__log10_C:1.0_log10_gamma:6.0__degree:1': 0.5,\n",
       " 'kernel:rbf__log10_C:1.0_log10_gamma:7.0__degree:1': 0.5,\n",
       " 'kernel:rbf__log10_C:1.0_log10_gamma:8.0__degree:1': 0.5,\n",
       " 'kernel:rbf__log10_C:1.0_log10_gamma:9.0__degree:1': 0.5,\n",
       " 'kernel:rbf__log10_C:2.0_log10_gamma:-1.0__degree:1': 0.9322783251231528,\n",
       " 'kernel:rbf__log10_C:2.0_log10_gamma:-2.0__degree:1': 0.9321116584564861,\n",
       " 'kernel:rbf__log10_C:2.0_log10_gamma:-3.0__degree:1': 0.931408866995074,\n",
       " 'kernel:rbf__log10_C:2.0_log10_gamma:-4.0__degree:1': 0.9315320197044336,\n",
       " 'kernel:rbf__log10_C:2.0_log10_gamma:-5.0__degree:1': 0.5,\n",
       " 'kernel:rbf__log10_C:2.0_log10_gamma:-6.0__degree:1': 0.5,\n",
       " 'kernel:rbf__log10_C:2.0_log10_gamma:-7.0__degree:1': 0.5,\n",
       " 'kernel:rbf__log10_C:2.0_log10_gamma:-8.0__degree:1': 0.5,\n",
       " 'kernel:rbf__log10_C:2.0_log10_gamma:-9.0__degree:1': 0.5,\n",
       " 'kernel:rbf__log10_C:2.0_log10_gamma:0.0__degree:1': 0.8780164203612479,\n",
       " 'kernel:rbf__log10_C:2.0_log10_gamma:1.0__degree:1': 0.8090837438423646,\n",
       " 'kernel:rbf__log10_C:2.0_log10_gamma:2.0__degree:1': 0.5081666666666668,\n",
       " 'kernel:rbf__log10_C:2.0_log10_gamma:3.0__degree:1': 0.5,\n",
       " 'kernel:rbf__log10_C:2.0_log10_gamma:4.0__degree:1': 0.5,\n",
       " 'kernel:rbf__log10_C:2.0_log10_gamma:5.0__degree:1': 0.5,\n",
       " 'kernel:rbf__log10_C:2.0_log10_gamma:6.0__degree:1': 0.5,\n",
       " 'kernel:rbf__log10_C:2.0_log10_gamma:7.0__degree:1': 0.5,\n",
       " 'kernel:rbf__log10_C:2.0_log10_gamma:8.0__degree:1': 0.5,\n",
       " 'kernel:rbf__log10_C:2.0_log10_gamma:9.0__degree:1': 0.5,\n",
       " 'kernel:rbf__log10_C:3.0_log10_gamma:-1.0__degree:1': 0.8598538587848934,\n",
       " 'kernel:rbf__log10_C:3.0_log10_gamma:-2.0__degree:1': 0.9320755336617406,\n",
       " 'kernel:rbf__log10_C:3.0_log10_gamma:-3.0__degree:1': 0.931408866995074,\n",
       " 'kernel:rbf__log10_C:3.0_log10_gamma:-4.0__degree:1': 0.9316190476190476,\n",
       " 'kernel:rbf__log10_C:3.0_log10_gamma:-5.0__degree:1': 0.9313653530377668,\n",
       " 'kernel:rbf__log10_C:3.0_log10_gamma:-6.0__degree:1': 0.5,\n",
       " 'kernel:rbf__log10_C:3.0_log10_gamma:-7.0__degree:1': 0.5,\n",
       " 'kernel:rbf__log10_C:3.0_log10_gamma:-8.0__degree:1': 0.5,\n",
       " 'kernel:rbf__log10_C:3.0_log10_gamma:-9.0__degree:1': 0.5,\n",
       " 'kernel:rbf__log10_C:3.0_log10_gamma:0.0__degree:1': 0.8735238095238096,\n",
       " 'kernel:rbf__log10_C:3.0_log10_gamma:1.0__degree:1': 0.8245320197044335,\n",
       " 'kernel:rbf__log10_C:3.0_log10_gamma:2.0__degree:1': 0.5081666666666667,\n",
       " 'kernel:rbf__log10_C:3.0_log10_gamma:3.0__degree:1': 0.5,\n",
       " 'kernel:rbf__log10_C:3.0_log10_gamma:4.0__degree:1': 0.5,\n",
       " 'kernel:rbf__log10_C:3.0_log10_gamma:5.0__degree:1': 0.5,\n",
       " 'kernel:rbf__log10_C:3.0_log10_gamma:6.0__degree:1': 0.5,\n",
       " 'kernel:rbf__log10_C:3.0_log10_gamma:7.0__degree:1': 0.5,\n",
       " 'kernel:rbf__log10_C:3.0_log10_gamma:8.0__degree:1': 0.5,\n",
       " 'kernel:rbf__log10_C:3.0_log10_gamma:9.0__degree:1': 0.5,\n",
       " 'kernel:rbf__log10_C:4.0_log10_gamma:-1.0__degree:1': 0.7946083743842364,\n",
       " 'kernel:rbf__log10_C:4.0_log10_gamma:-2.0__degree:1': 0.9162660098522166,\n",
       " 'kernel:rbf__log10_C:4.0_log10_gamma:-3.0__degree:1': 0.9318218390804598,\n",
       " 'kernel:rbf__log10_C:4.0_log10_gamma:-4.0__degree:1': 0.9324014778325123,\n",
       " 'kernel:rbf__log10_C:4.0_log10_gamma:-5.0__degree:1': 0.9318653530377669,\n",
       " 'kernel:rbf__log10_C:4.0_log10_gamma:-6.0__degree:1': 0.9318653530377667,\n",
       " 'kernel:rbf__log10_C:4.0_log10_gamma:-7.0__degree:1': 0.5,\n",
       " 'kernel:rbf__log10_C:4.0_log10_gamma:-8.0__degree:1': 0.5,\n",
       " 'kernel:rbf__log10_C:4.0_log10_gamma:-9.0__degree:1': 0.5,\n",
       " 'kernel:rbf__log10_C:4.0_log10_gamma:0.0__degree:1': 0.8512224958949097,\n",
       " 'kernel:rbf__log10_C:4.0_log10_gamma:1.0__degree:1': 0.8350558292282431,\n",
       " 'kernel:rbf__log10_C:4.0_log10_gamma:2.0__degree:1': 0.508,\n",
       " 'kernel:rbf__log10_C:4.0_log10_gamma:3.0__degree:1': 0.5,\n",
       " 'kernel:rbf__log10_C:4.0_log10_gamma:4.0__degree:1': 0.5,\n",
       " 'kernel:rbf__log10_C:4.0_log10_gamma:5.0__degree:1': 0.5,\n",
       " 'kernel:rbf__log10_C:4.0_log10_gamma:6.0__degree:1': 0.5,\n",
       " 'kernel:rbf__log10_C:4.0_log10_gamma:7.0__degree:1': 0.5,\n",
       " 'kernel:rbf__log10_C:4.0_log10_gamma:8.0__degree:1': 0.5,\n",
       " 'kernel:rbf__log10_C:4.0_log10_gamma:9.0__degree:1': 0.5,\n",
       " 'kernel:rbf__log10_C:5.0_log10_gamma:-1.0__degree:1': 0.8093456486042693,\n",
       " 'kernel:rbf__log10_C:5.0_log10_gamma:-2.0__degree:1': 0.850925287356322,\n",
       " 'kernel:rbf__log10_C:5.0_log10_gamma:-3.0__degree:1': 0.9319449917898195,\n",
       " 'kernel:rbf__log10_C:5.0_log10_gamma:-4.0__degree:1': 0.9321551724137931,\n",
       " 'kernel:rbf__log10_C:5.0_log10_gamma:-5.0__degree:1': 0.9317422003284073,\n",
       " 'kernel:rbf__log10_C:5.0_log10_gamma:-6.0__degree:1': 0.9315755336617406,\n",
       " 'kernel:rbf__log10_C:5.0_log10_gamma:-7.0__degree:1': 0.931865353037767,\n",
       " 'kernel:rbf__log10_C:5.0_log10_gamma:-8.0__degree:1': 0.5,\n",
       " 'kernel:rbf__log10_C:5.0_log10_gamma:-9.0__degree:1': 0.5,\n",
       " 'kernel:rbf__log10_C:5.0_log10_gamma:0.0__degree:1': 0.8441313628899838,\n",
       " 'kernel:rbf__log10_C:5.0_log10_gamma:1.0__degree:1': 0.8419885057471265,\n",
       " 'kernel:rbf__log10_C:5.0_log10_gamma:2.0__degree:1': 0.5081666666666668,\n",
       " 'kernel:rbf__log10_C:5.0_log10_gamma:3.0__degree:1': 0.5,\n",
       " 'kernel:rbf__log10_C:5.0_log10_gamma:4.0__degree:1': 0.5,\n",
       " 'kernel:rbf__log10_C:5.0_log10_gamma:5.0__degree:1': 0.5,\n",
       " 'kernel:rbf__log10_C:5.0_log10_gamma:6.0__degree:1': 0.5,\n",
       " 'kernel:rbf__log10_C:5.0_log10_gamma:7.0__degree:1': 0.5,\n",
       " 'kernel:rbf__log10_C:5.0_log10_gamma:8.0__degree:1': 0.5,\n",
       " 'kernel:rbf__log10_C:5.0_log10_gamma:9.0__degree:1': 0.5,\n",
       " 'kernel:rbf__log10_C:6.0_log10_gamma:-1.0__degree:1': 0.8002430213464696,\n",
       " 'kernel:rbf__log10_C:6.0_log10_gamma:-2.0__degree:1': 0.8069417077175698,\n",
       " 'kernel:rbf__log10_C:6.0_log10_gamma:-3.0__degree:1': 0.9192422003284073,\n",
       " 'kernel:rbf__log10_C:6.0_log10_gamma:-4.0__degree:1': 0.9318218390804598,\n",
       " 'kernel:rbf__log10_C:6.0_log10_gamma:-5.0__degree:1': 0.9312857142857143,\n",
       " 'kernel:rbf__log10_C:6.0_log10_gamma:-6.0__degree:1': 0.9317422003284073,\n",
       " 'kernel:rbf__log10_C:6.0_log10_gamma:-7.0__degree:1': 0.9318218390804598,\n",
       " 'kernel:rbf__log10_C:6.0_log10_gamma:-8.0__degree:1': 0.9315320197044334,\n",
       " 'kernel:rbf__log10_C:6.0_log10_gamma:-9.0__degree:1': 0.5,\n",
       " 'kernel:rbf__log10_C:6.0_log10_gamma:0.0__degree:1': 0.8726592775041051,\n",
       " 'kernel:rbf__log10_C:6.0_log10_gamma:1.0__degree:1': 0.8259885057471266,\n",
       " 'kernel:rbf__log10_C:6.0_log10_gamma:2.0__degree:1': 0.5081666666666668,\n",
       " 'kernel:rbf__log10_C:6.0_log10_gamma:3.0__degree:1': 0.5,\n",
       " 'kernel:rbf__log10_C:6.0_log10_gamma:4.0__degree:1': 0.5,\n",
       " 'kernel:rbf__log10_C:6.0_log10_gamma:5.0__degree:1': 0.5,\n",
       " 'kernel:rbf__log10_C:6.0_log10_gamma:6.0__degree:1': 0.5,\n",
       " 'kernel:rbf__log10_C:6.0_log10_gamma:7.0__degree:1': 0.5,\n",
       " 'kernel:rbf__log10_C:6.0_log10_gamma:8.0__degree:1': 0.5,\n",
       " 'kernel:rbf__log10_C:6.0_log10_gamma:9.0__degree:1': 0.5,\n",
       " 'kernel:rbf__log10_C:7.0_log10_gamma:-1.0__degree:1': 0.8052348111658456,\n",
       " 'kernel:rbf__log10_C:7.0_log10_gamma:-2.0__degree:1': 0.8075599343185551,\n",
       " 'kernel:rbf__log10_C:7.0_log10_gamma:-3.0__degree:1': 0.8358341543513957,\n",
       " 'kernel:rbf__log10_C:7.0_log10_gamma:-4.0__degree:1': 0.9132742200328408,\n",
       " 'kernel:rbf__log10_C:7.0_log10_gamma:-5.0__degree:1': 0.9234885057471265,\n",
       " 'kernel:rbf__log10_C:7.0_log10_gamma:-6.0__degree:1': 0.9318653530377669,\n",
       " 'kernel:rbf__log10_C:7.0_log10_gamma:-7.0__degree:1': 0.9317422003284073,\n",
       " 'kernel:rbf__log10_C:7.0_log10_gamma:-8.0__degree:1': 0.9314523809523809,\n",
       " 'kernel:rbf__log10_C:7.0_log10_gamma:-9.0__degree:1': 0.9321986863711003,\n",
       " 'kernel:rbf__log10_C:7.0_log10_gamma:0.0__degree:1': 0.8583735632183909,\n",
       " 'kernel:rbf__log10_C:7.0_log10_gamma:1.0__degree:1': 0.8092939244663383,\n",
       " 'kernel:rbf__log10_C:7.0_log10_gamma:2.0__degree:1': 0.5083333333333334,\n",
       " 'kernel:rbf__log10_C:7.0_log10_gamma:3.0__degree:1': 0.5,\n",
       " 'kernel:rbf__log10_C:7.0_log10_gamma:4.0__degree:1': 0.5,\n",
       " 'kernel:rbf__log10_C:7.0_log10_gamma:5.0__degree:1': 0.5,\n",
       " 'kernel:rbf__log10_C:7.0_log10_gamma:6.0__degree:1': 0.5,\n",
       " 'kernel:rbf__log10_C:7.0_log10_gamma:7.0__degree:1': 0.5,\n",
       " 'kernel:rbf__log10_C:7.0_log10_gamma:8.0__degree:1': 0.5,\n",
       " 'kernel:rbf__log10_C:7.0_log10_gamma:9.0__degree:1': 0.5,\n",
       " 'kernel:rbf__log10_C:8.0_log10_gamma:-1.0__degree:1': 0.7713062397372742,\n",
       " 'kernel:rbf__log10_C:8.0_log10_gamma:-2.0__degree:1': 0.7785451559934319,\n",
       " 'kernel:rbf__log10_C:8.0_log10_gamma:-3.0__degree:1': 0.7623341543513957,\n",
       " 'kernel:rbf__log10_C:8.0_log10_gamma:-4.0__degree:1': 0.8675205254515601,\n",
       " 'kernel:rbf__log10_C:8.0_log10_gamma:-5.0__degree:1': 0.9197939244663382,\n",
       " 'kernel:rbf__log10_C:8.0_log10_gamma:-6.0__degree:1': 0.9320320197044335,\n",
       " 'kernel:rbf__log10_C:8.0_log10_gamma:-7.0__degree:1': 0.9316551724137931,\n",
       " 'kernel:rbf__log10_C:8.0_log10_gamma:-8.0__degree:1': 0.9318653530377667,\n",
       " 'kernel:rbf__log10_C:8.0_log10_gamma:-9.0__degree:1': 0.9317783251231528,\n",
       " 'kernel:rbf__log10_C:8.0_log10_gamma:0.0__degree:1': 0.8528932676518883,\n",
       " 'kernel:rbf__log10_C:8.0_log10_gamma:1.0__degree:1': 0.7932504105090312,\n",
       " 'kernel:rbf__log10_C:8.0_log10_gamma:2.0__degree:1': 0.5081666666666668,\n",
       " 'kernel:rbf__log10_C:8.0_log10_gamma:3.0__degree:1': 0.5,\n",
       " 'kernel:rbf__log10_C:8.0_log10_gamma:4.0__degree:1': 0.5,\n",
       " 'kernel:rbf__log10_C:8.0_log10_gamma:5.0__degree:1': 0.5,\n",
       " 'kernel:rbf__log10_C:8.0_log10_gamma:6.0__degree:1': 0.5,\n",
       " 'kernel:rbf__log10_C:8.0_log10_gamma:7.0__degree:1': 0.5,\n",
       " 'kernel:rbf__log10_C:8.0_log10_gamma:8.0__degree:1': 0.5,\n",
       " 'kernel:rbf__log10_C:8.0_log10_gamma:9.0__degree:1': 0.5,\n",
       " 'kernel:rbf__log10_C:9.0_log10_gamma:-1.0__degree:1': 0.8382224958949097,\n",
       " 'kernel:rbf__log10_C:9.0_log10_gamma:-2.0__degree:1': 0.7893694581280788,\n",
       " 'kernel:rbf__log10_C:9.0_log10_gamma:-3.0__degree:1': 0.7892463054187191,\n",
       " 'kernel:rbf__log10_C:9.0_log10_gamma:-4.0__degree:1': 0.9045558292282431,\n",
       " 'kernel:rbf__log10_C:9.0_log10_gamma:-5.0__degree:1': 0.9159967159277504,\n",
       " 'kernel:rbf__log10_C:9.0_log10_gamma:-6.0__degree:1': 0.928663382594417,\n",
       " 'kernel:rbf__log10_C:9.0_log10_gamma:-7.0__degree:1': 0.9321116584564861,\n",
       " 'kernel:rbf__log10_C:9.0_log10_gamma:-8.0__degree:1': 0.9314523809523809,\n",
       " 'kernel:rbf__log10_C:9.0_log10_gamma:-9.0__degree:1': 0.9316986863711002,\n",
       " 'kernel:rbf__log10_C:9.0_log10_gamma:0.0__degree:1': 0.8723259441707718,\n",
       " 'kernel:rbf__log10_C:9.0_log10_gamma:1.0__degree:1': 0.8307586206896551,\n",
       " 'kernel:rbf__log10_C:9.0_log10_gamma:2.0__degree:1': 0.5,\n",
       " 'kernel:rbf__log10_C:9.0_log10_gamma:3.0__degree:1': 0.5,\n",
       " 'kernel:rbf__log10_C:9.0_log10_gamma:4.0__degree:1': 0.5,\n",
       " 'kernel:rbf__log10_C:9.0_log10_gamma:5.0__degree:1': 0.5,\n",
       " 'kernel:rbf__log10_C:9.0_log10_gamma:6.0__degree:1': 0.5,\n",
       " 'kernel:rbf__log10_C:9.0_log10_gamma:7.0__degree:1': 0.5,\n",
       " 'kernel:rbf__log10_C:9.0_log10_gamma:8.0__degree:1': 0.5,\n",
       " 'kernel:rbf__log10_C:9.0_log10_gamma:9.0__degree:1': 0.5}"
      ]
     },
     "execution_count": 15,
     "metadata": {},
     "output_type": "execute_result"
    }
   ],
   "source": [
    "c_vals     = np.power(float(10), range(-9, 9 + 1))\n",
    "gamma_vals = np.power(float(10), range(-9, 9 + 1))\n",
    "d_vals     = []\n",
    "\n",
    "\n",
    "load_it_or_compute_it (X, y, \"rbf\", 5, {\"c_vals\":c_vals, \"gamma_vals\":gamma_vals, \"d_vals\":d_vals})"
   ]
  },
  {
   "cell_type": "markdown",
   "metadata": {},
   "source": [
    "### Linear Kernel"
   ]
  },
  {
   "cell_type": "markdown",
   "metadata": {},
   "source": [
    "The linear kernel can be written as:\n",
    "<br>\n",
    "$$\n",
    "\\LARGE\n",
    "K(x, x') = <x.x'>\n",
    "\\normalsize\n",
    "$$\n",
    "<br>\n",
    "So there will be only one parameter to cross-validate: C."
   ]
  },
  {
   "cell_type": "code",
   "execution_count": 16,
   "metadata": {
    "scrolled": true
   },
   "outputs": [
    {
     "name": "stdout",
     "output_type": "stream",
     "text": [
      "kernellinear__n_folds5__log10_c_vals-7~7__d_valsNA__log10_gamma_valsNA\n",
      "FOUND!\n"
     ]
    },
    {
     "data": {
      "text/plain": [
       "{'kernel:linear__log10_C:-1.0_log10_gamma:0.0__degree:1': 0.9409770114942528,\n",
       " 'kernel:linear__log10_C:-2.0_log10_gamma:0.0__degree:1': 0.9409414340448822,\n",
       " 'kernel:linear__log10_C:-3.0_log10_gamma:0.0__degree:1': 0.5,\n",
       " 'kernel:linear__log10_C:-4.0_log10_gamma:0.0__degree:1': 0.5,\n",
       " 'kernel:linear__log10_C:-5.0_log10_gamma:0.0__degree:1': 0.5,\n",
       " 'kernel:linear__log10_C:-6.0_log10_gamma:0.0__degree:1': 0.5,\n",
       " 'kernel:linear__log10_C:-7.0_log10_gamma:0.0__degree:1': 0.5,\n",
       " 'kernel:linear__log10_C:0.0_log10_gamma:0.0__degree:1': 0.9407827038861521,\n",
       " 'kernel:linear__log10_C:1.0_log10_gamma:0.0__degree:1': 0.9406321839080459,\n",
       " 'kernel:linear__log10_C:2.0_log10_gamma:0.0__degree:1': 0.9410919540229885,\n",
       " 'kernel:linear__log10_C:3.0_log10_gamma:0.0__degree:1': 0.9409770114942528,\n",
       " 'kernel:linear__log10_C:4.0_log10_gamma:0.0__degree:1': 0.9407115489874109,\n",
       " 'kernel:linear__log10_C:5.0_log10_gamma:0.0__degree:1': 0.9407827038861521,\n",
       " 'kernel:linear__log10_C:6.0_log10_gamma:0.0__degree:1': 0.9407471264367817,\n",
       " 'kernel:linear__log10_C:7.0_log10_gamma:0.0__degree:1': 0.9187274220032839}"
      ]
     },
     "execution_count": 16,
     "metadata": {},
     "output_type": "execute_result"
    }
   ],
   "source": [
    "c_vals     = np.power(float(10), range(-7, 7 + 1))\n",
    "gamma_vals = []\n",
    "d_vals     = []\n",
    "\n",
    "\n",
    "load_it_or_compute_it (X, y, \"linear\", 5, {\"c_vals\":c_vals, \"gamma_vals\":gamma_vals, \"d_vals\":d_vals})"
   ]
  },
  {
   "cell_type": "markdown",
   "metadata": {},
   "source": [
    "### Polynomial Kernel"
   ]
  },
  {
   "cell_type": "markdown",
   "metadata": {},
   "source": [
    "The polynomial kernel can be written as:\n",
    "<br>\n",
    "$$\n",
    "\\LARGE\n",
    "K(x, x') = (\\gamma<x.x'>)^d\n",
    "\\normalsize\n",
    "$$\n",
    "<br>\n",
    "So there will be three parameters to cross-validate: C, $\\gamma$, and $d$."
   ]
  },
  {
   "cell_type": "code",
   "execution_count": null,
   "metadata": {},
   "outputs": [
    {
     "name": "stdout",
     "output_type": "stream",
     "text": [
      "kernelpoly__n_folds5__log10_c_vals-5~5__d_vals1~10__log10_gamma_vals-5~5\n"
     ]
    }
   ],
   "source": [
    "c_vals     = np.power(float(10), range(-5, 5 + 1))\n",
    "gamma_vals = np.power(float(10), range(-5, 5 + 1))\n",
    "d_vals     = range( 1, 10 + 1)\n",
    "\n",
    "\n",
    "load_it_or_compute_it (X, y, \"poly\", 5, {\"c_vals\":c_vals, \"gamma_vals\":gamma_vals, \"d_vals\":d_vals})"
   ]
  },
  {
   "cell_type": "markdown",
   "metadata": {},
   "source": [
    "### Sigmoid Kernel"
   ]
  },
  {
   "cell_type": "markdown",
   "metadata": {},
   "source": [
    "The polynomial kernel can be written as:\n",
    "<br>\n",
    "$$\n",
    "\\LARGE\n",
    "K(x, x') = tgh(\\gamma<x.x'>)\n",
    "\\normalsize\n",
    "$$\n",
    "<br>\n",
    "So there will be only one parameter to cross-validate: C, $\\gamma$, and $d$."
   ]
  },
  {
   "cell_type": "code",
   "execution_count": 17,
   "metadata": {},
   "outputs": [
    {
     "name": "stdout",
     "output_type": "stream",
     "text": [
      "kernelsigmoid__n_folds5__log10_c_vals-5~5__d_valsNA__log10_gamma_vals-5~5\n",
      "FOUND!\n"
     ]
    },
    {
     "data": {
      "text/plain": [
       "{'kernel:sigmoid__log10_C:-1.0_log10_gamma:-1.0__degree:1': 0.9319885057471264,\n",
       " 'kernel:sigmoid__log10_C:-1.0_log10_gamma:-2.0__degree:1': 0.5,\n",
       " 'kernel:sigmoid__log10_C:-1.0_log10_gamma:-3.0__degree:1': 0.5,\n",
       " 'kernel:sigmoid__log10_C:-1.0_log10_gamma:-4.0__degree:1': 0.5,\n",
       " 'kernel:sigmoid__log10_C:-1.0_log10_gamma:-5.0__degree:1': 0.5,\n",
       " 'kernel:sigmoid__log10_C:-1.0_log10_gamma:0.0__degree:1': 0.7809802955665024,\n",
       " 'kernel:sigmoid__log10_C:-1.0_log10_gamma:1.0__degree:1': 0.5,\n",
       " 'kernel:sigmoid__log10_C:-1.0_log10_gamma:2.0__degree:1': 0.5,\n",
       " 'kernel:sigmoid__log10_C:-1.0_log10_gamma:3.0__degree:1': 0.5,\n",
       " 'kernel:sigmoid__log10_C:-1.0_log10_gamma:4.0__degree:1': 0.5,\n",
       " 'kernel:sigmoid__log10_C:-1.0_log10_gamma:5.0__degree:1': 0.5005952380952382,\n",
       " 'kernel:sigmoid__log10_C:-2.0_log10_gamma:-1.0__degree:1': 0.5,\n",
       " 'kernel:sigmoid__log10_C:-2.0_log10_gamma:-2.0__degree:1': 0.5,\n",
       " 'kernel:sigmoid__log10_C:-2.0_log10_gamma:-3.0__degree:1': 0.5,\n",
       " 'kernel:sigmoid__log10_C:-2.0_log10_gamma:-4.0__degree:1': 0.5,\n",
       " 'kernel:sigmoid__log10_C:-2.0_log10_gamma:-5.0__degree:1': 0.5,\n",
       " 'kernel:sigmoid__log10_C:-2.0_log10_gamma:0.0__degree:1': 0.5,\n",
       " 'kernel:sigmoid__log10_C:-2.0_log10_gamma:1.0__degree:1': 0.5,\n",
       " 'kernel:sigmoid__log10_C:-2.0_log10_gamma:2.0__degree:1': 0.5,\n",
       " 'kernel:sigmoid__log10_C:-2.0_log10_gamma:3.0__degree:1': 0.5,\n",
       " 'kernel:sigmoid__log10_C:-2.0_log10_gamma:4.0__degree:1': 0.5,\n",
       " 'kernel:sigmoid__log10_C:-2.0_log10_gamma:5.0__degree:1': 0.5,\n",
       " 'kernel:sigmoid__log10_C:-3.0_log10_gamma:-1.0__degree:1': 0.5,\n",
       " 'kernel:sigmoid__log10_C:-3.0_log10_gamma:-2.0__degree:1': 0.5,\n",
       " 'kernel:sigmoid__log10_C:-3.0_log10_gamma:-3.0__degree:1': 0.5,\n",
       " 'kernel:sigmoid__log10_C:-3.0_log10_gamma:-4.0__degree:1': 0.5,\n",
       " 'kernel:sigmoid__log10_C:-3.0_log10_gamma:-5.0__degree:1': 0.5,\n",
       " 'kernel:sigmoid__log10_C:-3.0_log10_gamma:0.0__degree:1': 0.5,\n",
       " 'kernel:sigmoid__log10_C:-3.0_log10_gamma:1.0__degree:1': 0.5,\n",
       " 'kernel:sigmoid__log10_C:-3.0_log10_gamma:2.0__degree:1': 0.5,\n",
       " 'kernel:sigmoid__log10_C:-3.0_log10_gamma:3.0__degree:1': 0.5,\n",
       " 'kernel:sigmoid__log10_C:-3.0_log10_gamma:4.0__degree:1': 0.5,\n",
       " 'kernel:sigmoid__log10_C:-3.0_log10_gamma:5.0__degree:1': 0.5,\n",
       " 'kernel:sigmoid__log10_C:-4.0_log10_gamma:-1.0__degree:1': 0.5,\n",
       " 'kernel:sigmoid__log10_C:-4.0_log10_gamma:-2.0__degree:1': 0.5,\n",
       " 'kernel:sigmoid__log10_C:-4.0_log10_gamma:-3.0__degree:1': 0.5,\n",
       " 'kernel:sigmoid__log10_C:-4.0_log10_gamma:-4.0__degree:1': 0.5,\n",
       " 'kernel:sigmoid__log10_C:-4.0_log10_gamma:-5.0__degree:1': 0.5,\n",
       " 'kernel:sigmoid__log10_C:-4.0_log10_gamma:0.0__degree:1': 0.5,\n",
       " 'kernel:sigmoid__log10_C:-4.0_log10_gamma:1.0__degree:1': 0.5,\n",
       " 'kernel:sigmoid__log10_C:-4.0_log10_gamma:2.0__degree:1': 0.5,\n",
       " 'kernel:sigmoid__log10_C:-4.0_log10_gamma:3.0__degree:1': 0.5,\n",
       " 'kernel:sigmoid__log10_C:-4.0_log10_gamma:4.0__degree:1': 0.5,\n",
       " 'kernel:sigmoid__log10_C:-4.0_log10_gamma:5.0__degree:1': 0.5,\n",
       " 'kernel:sigmoid__log10_C:-5.0_log10_gamma:-1.0__degree:1': 0.5,\n",
       " 'kernel:sigmoid__log10_C:-5.0_log10_gamma:-2.0__degree:1': 0.5,\n",
       " 'kernel:sigmoid__log10_C:-5.0_log10_gamma:-3.0__degree:1': 0.5,\n",
       " 'kernel:sigmoid__log10_C:-5.0_log10_gamma:-4.0__degree:1': 0.5,\n",
       " 'kernel:sigmoid__log10_C:-5.0_log10_gamma:-5.0__degree:1': 0.5,\n",
       " 'kernel:sigmoid__log10_C:-5.0_log10_gamma:0.0__degree:1': 0.5,\n",
       " 'kernel:sigmoid__log10_C:-5.0_log10_gamma:1.0__degree:1': 0.5,\n",
       " 'kernel:sigmoid__log10_C:-5.0_log10_gamma:2.0__degree:1': 0.5,\n",
       " 'kernel:sigmoid__log10_C:-5.0_log10_gamma:3.0__degree:1': 0.5,\n",
       " 'kernel:sigmoid__log10_C:-5.0_log10_gamma:4.0__degree:1': 0.5,\n",
       " 'kernel:sigmoid__log10_C:-5.0_log10_gamma:5.0__degree:1': 0.5,\n",
       " 'kernel:sigmoid__log10_C:0.0_log10_gamma:-1.0__degree:1': 0.9315320197044334,\n",
       " 'kernel:sigmoid__log10_C:0.0_log10_gamma:-2.0__degree:1': 0.9315755336617406,\n",
       " 'kernel:sigmoid__log10_C:0.0_log10_gamma:-3.0__degree:1': 0.5,\n",
       " 'kernel:sigmoid__log10_C:0.0_log10_gamma:-4.0__degree:1': 0.5,\n",
       " 'kernel:sigmoid__log10_C:0.0_log10_gamma:-5.0__degree:1': 0.5,\n",
       " 'kernel:sigmoid__log10_C:0.0_log10_gamma:0.0__degree:1': 0.6424055829228243,\n",
       " 'kernel:sigmoid__log10_C:0.0_log10_gamma:1.0__degree:1': 0.5005952380952381,\n",
       " 'kernel:sigmoid__log10_C:0.0_log10_gamma:2.0__degree:1': 0.5,\n",
       " 'kernel:sigmoid__log10_C:0.0_log10_gamma:3.0__degree:1': 0.5,\n",
       " 'kernel:sigmoid__log10_C:0.0_log10_gamma:4.0__degree:1': 0.5,\n",
       " 'kernel:sigmoid__log10_C:0.0_log10_gamma:5.0__degree:1': 0.5,\n",
       " 'kernel:sigmoid__log10_C:1.0_log10_gamma:-1.0__degree:1': 0.9246789819376026,\n",
       " 'kernel:sigmoid__log10_C:1.0_log10_gamma:-2.0__degree:1': 0.9321551724137931,\n",
       " 'kernel:sigmoid__log10_C:1.0_log10_gamma:-3.0__degree:1': 0.9313653530377669,\n",
       " 'kernel:sigmoid__log10_C:1.0_log10_gamma:-4.0__degree:1': 0.5,\n",
       " 'kernel:sigmoid__log10_C:1.0_log10_gamma:-5.0__degree:1': 0.5,\n",
       " 'kernel:sigmoid__log10_C:1.0_log10_gamma:0.0__degree:1': 0.6193103448275863,\n",
       " 'kernel:sigmoid__log10_C:1.0_log10_gamma:1.0__degree:1': 0.4969802955665025,\n",
       " 'kernel:sigmoid__log10_C:1.0_log10_gamma:2.0__degree:1': 0.5004285714285714,\n",
       " 'kernel:sigmoid__log10_C:1.0_log10_gamma:3.0__degree:1': 0.5004285714285714,\n",
       " 'kernel:sigmoid__log10_C:1.0_log10_gamma:4.0__degree:1': 0.5,\n",
       " 'kernel:sigmoid__log10_C:1.0_log10_gamma:5.0__degree:1': 0.5,\n",
       " 'kernel:sigmoid__log10_C:2.0_log10_gamma:-1.0__degree:1': 0.8755640394088671,\n",
       " 'kernel:sigmoid__log10_C:2.0_log10_gamma:-2.0__degree:1': 0.9319449917898193,\n",
       " 'kernel:sigmoid__log10_C:2.0_log10_gamma:-3.0__degree:1': 0.9318653530377667,\n",
       " 'kernel:sigmoid__log10_C:2.0_log10_gamma:-4.0__degree:1': 0.9317422003284073,\n",
       " 'kernel:sigmoid__log10_C:2.0_log10_gamma:-5.0__degree:1': 0.5,\n",
       " 'kernel:sigmoid__log10_C:2.0_log10_gamma:0.0__degree:1': 0.6600402298850575,\n",
       " 'kernel:sigmoid__log10_C:2.0_log10_gamma:1.0__degree:1': 0.49825697865353036,\n",
       " 'kernel:sigmoid__log10_C:2.0_log10_gamma:2.0__degree:1': 0.5041666666666668,\n",
       " 'kernel:sigmoid__log10_C:2.0_log10_gamma:3.0__degree:1': 0.5,\n",
       " 'kernel:sigmoid__log10_C:2.0_log10_gamma:4.0__degree:1': 0.500551724137931,\n",
       " 'kernel:sigmoid__log10_C:2.0_log10_gamma:5.0__degree:1': 0.5,\n",
       " 'kernel:sigmoid__log10_C:3.0_log10_gamma:-1.0__degree:1': 0.8295919540229885,\n",
       " 'kernel:sigmoid__log10_C:3.0_log10_gamma:-2.0__degree:1': 0.9312422003284073,\n",
       " 'kernel:sigmoid__log10_C:3.0_log10_gamma:-3.0__degree:1': 0.9320320197044336,\n",
       " 'kernel:sigmoid__log10_C:3.0_log10_gamma:-4.0__degree:1': 0.9322783251231526,\n",
       " 'kernel:sigmoid__log10_C:3.0_log10_gamma:-5.0__degree:1': 0.9323579638752053,\n",
       " 'kernel:sigmoid__log10_C:3.0_log10_gamma:0.0__degree:1': 0.6882192118226602,\n",
       " 'kernel:sigmoid__log10_C:3.0_log10_gamma:1.0__degree:1': 0.5527742200328407,\n",
       " 'kernel:sigmoid__log10_C:3.0_log10_gamma:2.0__degree:1': 0.500551724137931,\n",
       " 'kernel:sigmoid__log10_C:3.0_log10_gamma:3.0__degree:1': 0.5,\n",
       " 'kernel:sigmoid__log10_C:3.0_log10_gamma:4.0__degree:1': 0.5,\n",
       " 'kernel:sigmoid__log10_C:3.0_log10_gamma:5.0__degree:1': 0.5,\n",
       " 'kernel:sigmoid__log10_C:4.0_log10_gamma:-1.0__degree:1': 0.8263177339901479,\n",
       " 'kernel:sigmoid__log10_C:4.0_log10_gamma:-2.0__degree:1': 0.9232857142857143,\n",
       " 'kernel:sigmoid__log10_C:4.0_log10_gamma:-3.0__degree:1': 0.9316551724137931,\n",
       " 'kernel:sigmoid__log10_C:4.0_log10_gamma:-4.0__degree:1': 0.9316986863711002,\n",
       " 'kernel:sigmoid__log10_C:4.0_log10_gamma:-5.0__degree:1': 0.9316986863711002,\n",
       " 'kernel:sigmoid__log10_C:4.0_log10_gamma:0.0__degree:1': 0.5497717569786534,\n",
       " 'kernel:sigmoid__log10_C:4.0_log10_gamma:1.0__degree:1': 0.522390804597701,\n",
       " 'kernel:sigmoid__log10_C:4.0_log10_gamma:2.0__degree:1': 0.5005952380952381,\n",
       " 'kernel:sigmoid__log10_C:4.0_log10_gamma:3.0__degree:1': 0.5,\n",
       " 'kernel:sigmoid__log10_C:4.0_log10_gamma:4.0__degree:1': 0.5,\n",
       " 'kernel:sigmoid__log10_C:4.0_log10_gamma:5.0__degree:1': 0.5004285714285714,\n",
       " 'kernel:sigmoid__log10_C:5.0_log10_gamma:-1.0__degree:1': 0.8309129720853858,\n",
       " 'kernel:sigmoid__log10_C:5.0_log10_gamma:-2.0__degree:1': 0.8628817733990147,\n",
       " 'kernel:sigmoid__log10_C:5.0_log10_gamma:-3.0__degree:1': 0.931408866995074,\n",
       " 'kernel:sigmoid__log10_C:5.0_log10_gamma:-4.0__degree:1': 0.9314523809523809,\n",
       " 'kernel:sigmoid__log10_C:5.0_log10_gamma:-5.0__degree:1': 0.9316986863711002,\n",
       " 'kernel:sigmoid__log10_C:5.0_log10_gamma:0.0__degree:1': 0.6933144499178981,\n",
       " 'kernel:sigmoid__log10_C:5.0_log10_gamma:1.0__degree:1': 0.5370451559934318,\n",
       " 'kernel:sigmoid__log10_C:5.0_log10_gamma:2.0__degree:1': 0.49702380952380953,\n",
       " 'kernel:sigmoid__log10_C:5.0_log10_gamma:3.0__degree:1': 0.5005952380952382,\n",
       " 'kernel:sigmoid__log10_C:5.0_log10_gamma:4.0__degree:1': 0.5,\n",
       " 'kernel:sigmoid__log10_C:5.0_log10_gamma:5.0__degree:1': 0.5}"
      ]
     },
     "execution_count": 17,
     "metadata": {},
     "output_type": "execute_result"
    }
   ],
   "source": [
    "c_vals     = np.power(float(10), range(-5, 5 + 1))\n",
    "gamma_vals = np.power(float(10), range(-5, 5 + 1))\n",
    "d_vals     = []\n",
    "\n",
    "\n",
    "load_it_or_compute_it (X, y, \"sigmoid\", 5, {\"c_vals\":c_vals, \"gamma_vals\":gamma_vals, \"d_vals\":d_vals})"
   ]
  }
 ],
 "metadata": {
  "kernelspec": {
   "display_name": "Python 3",
   "language": "python",
   "name": "python3"
  },
  "language_info": {
   "codemirror_mode": {
    "name": "ipython",
    "version": 3
   },
   "file_extension": ".py",
   "mimetype": "text/x-python",
   "name": "python",
   "nbconvert_exporter": "python",
   "pygments_lexer": "ipython3",
   "version": "3.7.3"
  }
 },
 "nbformat": 4,
 "nbformat_minor": 2
}
