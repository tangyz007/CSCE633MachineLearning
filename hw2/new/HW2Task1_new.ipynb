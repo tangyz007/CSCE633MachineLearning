{
 "cells": [
  {
   "cell_type": "markdown",
   "metadata": {},
   "source": [
    "Prepare the data."
   ]
  },
  {
   "cell_type": "code",
   "execution_count": 1,
   "metadata": {},
   "outputs": [],
   "source": [
    "import pandas as pd\n",
    "import numpy as np\n",
    "import csv"
   ]
  },
  {
   "cell_type": "markdown",
   "metadata": {},
   "source": [
    "Transform raw data file into CSV file."
   ]
  },
  {
   "cell_type": "code",
   "execution_count": 2,
   "metadata": {},
   "outputs": [],
   "source": [
    "def parse_data(data_file, out_file):\n",
    "    with open(data_file) as df:\n",
    "        list=[]\n",
    "        with open(out_file, mode='w') as training:\n",
    "            data_writer = csv.writer(training, delimiter=',', quotechar='\"', quoting=csv.QUOTE_MINIMAL)\n",
    "            for x in range(0,37):\n",
    "                if x==0:\n",
    "                    feature=\"class\"\n",
    "                else:\n",
    "                    feature =\"feature\"+str(x)\n",
    "                list.append(feature)\n",
    "            data_writer.writerow(list)\n",
    "        line = df.readline()\n",
    "        while line:\n",
    "            data = line.split()\n",
    "            parsedDataList=[]\n",
    "            for x in range(0,37):\n",
    "                parsedDataList.append(\"\")\n",
    "\n",
    "            for item in data:\n",
    "                index=item.find(\":\")\n",
    "                if index>0:\n",
    "                    featureNumber=item[0:index]\n",
    "                    featureData=item[index+1:]\n",
    "                    parsedDataList[int(featureNumber)]=featureData\n",
    "                else:\n",
    "                    parsedDataList[0]=item\n",
    "            with open(out_file, mode='a') as training:\n",
    "                data_writer = csv.writer(training, delimiter=',', quotechar='\"', quoting=csv.QUOTE_MINIMAL)\n",
    "                data_writer.writerow(parsedDataList)\n",
    "            line = df.readline()"
   ]
  },
  {
   "cell_type": "code",
   "execution_count": 3,
   "metadata": {},
   "outputs": [],
   "source": [
    "parse_data(\"satimage.scale.training\" , 'parsed_training.csv')\n",
    "parse_data(\"satimage.scale.t\" , 'parsed_testing.csv')"
   ]
  },
  {
   "cell_type": "code",
   "execution_count": 4,
   "metadata": {},
   "outputs": [],
   "source": [
    "df_train = pd.read_csv('parsed_training.csv')\n",
    "df_test  = pd.read_csv('parsed_testing.csv')"
   ]
  },
  {
   "cell_type": "code",
   "execution_count": 5,
   "metadata": {},
   "outputs": [],
   "source": [
    "X = df_train.drop(['class'],axis=1)\n",
    "y = df_train[['class']]"
   ]
  },
  {
   "cell_type": "markdown",
   "metadata": {},
   "source": [
    "Normalize the data."
   ]
  },
  {
   "cell_type": "code",
   "execution_count": 7,
   "metadata": {},
   "outputs": [],
   "source": [
    "X =(X - X.mean())/ X.std()"
   ]
  },
  {
   "cell_type": "code",
   "execution_count": 8,
   "metadata": {},
   "outputs": [],
   "source": [
    "X=X.fillna(0)"
   ]
  },
  {
   "cell_type": "code",
   "execution_count": 9,
   "metadata": {
    "scrolled": true
   },
   "outputs": [],
   "source": [
    "class_dict = {1:0, 2:0, 3:0, 4:0, 5:0, 6:1}\n",
    "y=y['class'].map(class_dict)"
   ]
  },
  {
   "cell_type": "code",
   "execution_count": 21,
   "metadata": {},
   "outputs": [],
   "source": [
    "from sklearn.svm import SVC\n",
    "from sklearn.model_selection import StratifiedKFold\n",
    "from sklearn.metrics import roc_auc_score\n",
    "from sklearn.preprocessing import Imputer\n",
    "\n",
    "\n",
    "def cross_validate_single_kernel(X, y, kernel, n_folds, args):\n",
    "    \n",
    "    #auc = []\n",
    "    error = []\n",
    "    nsv = 0\n",
    "    nsvm = 0 \n",
    "    skf=StratifiedKFold(n_splits=n_folds, shuffle=True)\n",
    "    for train_index, test_index in skf.split(X, y):\n",
    "        X_train, X_test = X.iloc[train_index], X.iloc[test_index]\n",
    "        y_train, y_test = y.iloc[train_index].values.ravel(), y.iloc[test_index].values.ravel()\n",
    "\n",
    "        ##train/test\n",
    "        svm = SVC(C=args[\"c_val\"], kernel=kernel, tol=1e-7, shrinking=False, degree = args[\"d_val\"], gamma = 'auto')\n",
    "        svm.fit(X_train, y_train)\n",
    "\n",
    "        error.append(len(y_test)-((svm.score(X_test, y_test))*len(y_test)))\n",
    "        sv_list   =  svm.support_\n",
    "        svx       =  svm.support_vectors_\n",
    "        beta_list = abs(np.float16((svm.decision_function(svx))))\n",
    "        index = [i for i, j in enumerate(beta_list) if j == 1]\n",
    "\n",
    "        #pred   =   svm.predict(X_test)\n",
    "        #auc.append(roc_auc_score(y_test, pred))\n",
    "        nsv   +=   np.mean(svm.n_support_)/n_folds\n",
    "        nsvm  +=   len(index)/n_folds\n",
    "    \n",
    "    return error, nsv, nsvm"
   ]
  },
  {
   "cell_type": "code",
   "execution_count": 22,
   "metadata": {},
   "outputs": [
    {
     "data": {
      "text/plain": [
       "([33.0, 40.0, 33.0, 37.0, 27.0, 38.0, 36.0, 30.0, 39.0, 40.0],\n",
       " 433.6,\n",
       " 120.89999999999999)"
      ]
     },
     "execution_count": 22,
     "metadata": {},
     "output_type": "execute_result"
    }
   ],
   "source": [
    "c_vals     = 5\n",
    "d_vals     = 3\n",
    "cross_validate_single_kernel(X, y, \"poly\", 10, {\"c_val\":c_vals, \"d_val\":d_vals})"
   ]
  },
  {
   "cell_type": "markdown",
   "metadata": {},
   "source": [
    "Make it Parallel"
   ]
  },
  {
   "cell_type": "code",
   "execution_count": 12,
   "metadata": {},
   "outputs": [],
   "source": [
    "from joblib import Parallel, delayed\n",
    "import multiprocessing \n",
    "from itertools import product\n",
    "\n",
    "num_processes = 8\n",
    "\n",
    "def cross_validate_kernels(X, y, kernel, n_folds, args):\n",
    "    \n",
    "    for key in args.keys():\n",
    "        if len(args[key])==0:\n",
    "            args[key]=[1]\n",
    "\n",
    "    results = Parallel(n_jobs=num_processes)(delayed(cross_validate_single_kernel)\\\n",
    "              (X, y, kernel, n_folds,{\"c_val\":c_val, \"d_val\":d_val})\\\n",
    "              for (c_val, d_val) in product(args[\"c_vals\"], args[\"d_vals\"]))\n",
    "    \n",
    "    names   = [\"kernel:%s__log10_C:%s__degree:%s\"%(kernel, str(np.log10(c_val)), str(d_val))\\\n",
    "              for (c_val, d_val) in product(args[\"c_vals\"], args[\"d_vals\"])]\n",
    "    \n",
    "    result_dict = dict(zip(names, results))\n",
    "        \n",
    "    return result_dict"
   ]
  },
  {
   "cell_type": "code",
   "execution_count": 30,
   "metadata": {},
   "outputs": [],
   "source": [
    "import os\n",
    "\n",
    "rslt_addr = \"./results\"\n",
    "if not os.path.exists(rslt_addr):\n",
    "    os.makedirs(rslt_addr)"
   ]
  },
  {
   "cell_type": "code",
   "execution_count": 31,
   "metadata": {},
   "outputs": [],
   "source": [
    "def name_creator(kernel, n_folds, args):\n",
    "\n",
    "    name = \"kernel%s__n_folds%d\"%(kernel, n_folds)\n",
    "    \n",
    "    def describe_in_string(vec, is_degree=False):\n",
    "        \n",
    "        if len(vec)==0:\n",
    "            return \"NA\"\n",
    "        \n",
    "        if not is_degree:\n",
    "            vec = np.log10(vec)\n",
    "            \n",
    "        if len(vec)==1:\n",
    "            return \"%d\"%vec[0]\n",
    "    \n",
    "        return \"%d~%d\"%(np.min(vec), np.max(vec))\n",
    "    \n",
    "    for arg in sorted(args.keys()):\n",
    "        if arg!=\"d_vals\":\n",
    "            name += \"__log10_%s%s\"%(arg, describe_in_string(args[arg]))\n",
    "        else:\n",
    "            name += \"__%s%s\"%(arg, describe_in_string(args[arg], True))\n",
    "    \n",
    "    return name"
   ]
  },
  {
   "cell_type": "code",
   "execution_count": 32,
   "metadata": {},
   "outputs": [],
   "source": [
    "import pickle\n",
    "import os\n",
    "import numpy as np\n",
    "\n",
    "def load_it_or_compute_it (X, y, kernel, n_folds, args):\n",
    "    \n",
    "    rslt_dict_name = name_creator(kernel, n_folds, args)\n",
    "    rslt_dict_addr = os.path.join(rslt_addr, rslt_dict_name)\n",
    "    \n",
    "    print (rslt_dict_name)\n",
    "    \n",
    "    if os.path.isfile(rslt_dict_addr):\n",
    "        print (\"FOUND!\")\n",
    "        with open(rslt_dict_addr,\"rb\") as rslt_dict_handle:\n",
    "            rslt_dict = pickle.load(rslt_dict_handle)\n",
    "    else:\n",
    "        rslt_dict = cross_validate_kernels(X, y, kernel, n_folds, args)\n",
    "        with open(rslt_dict_addr,\"wb\") as rslt_dict_handle:\n",
    "            pickle.dump(rslt_dict, rslt_dict_handle)\n",
    "\n",
    "    return rslt_dict"
   ]
  },
  {
   "cell_type": "code",
   "execution_count": 3,
   "metadata": {},
   "outputs": [
    {
     "ename": "NameError",
     "evalue": "name 'load_it_or_compute_it' is not defined",
     "output_type": "error",
     "traceback": [
      "\u001b[1;31m---------------------------------------------------------------------------\u001b[0m",
      "\u001b[1;31mNameError\u001b[0m                                 Traceback (most recent call last)",
      "\u001b[1;32m<ipython-input-3-800e24172a1a>\u001b[0m in \u001b[0;36m<module>\u001b[1;34m\u001b[0m\n\u001b[0;32m      1\u001b[0m \u001b[0mc_vals\u001b[0m     \u001b[1;33m=\u001b[0m \u001b[0mnp\u001b[0m\u001b[1;33m.\u001b[0m\u001b[0mpower\u001b[0m\u001b[1;33m(\u001b[0m\u001b[0mfloat\u001b[0m\u001b[1;33m(\u001b[0m\u001b[1;36m5\u001b[0m\u001b[1;33m)\u001b[0m\u001b[1;33m,\u001b[0m \u001b[0mrange\u001b[0m\u001b[1;33m(\u001b[0m\u001b[1;33m-\u001b[0m\u001b[1;36m5\u001b[0m\u001b[1;33m,\u001b[0m \u001b[1;36m5\u001b[0m \u001b[1;33m+\u001b[0m \u001b[1;36m1\u001b[0m\u001b[1;33m)\u001b[0m\u001b[1;33m)\u001b[0m\u001b[1;33m\u001b[0m\u001b[1;33m\u001b[0m\u001b[0m\n\u001b[0;32m      2\u001b[0m \u001b[0md_vals\u001b[0m     \u001b[1;33m=\u001b[0m \u001b[0mrange\u001b[0m\u001b[1;33m(\u001b[0m \u001b[1;36m1\u001b[0m\u001b[1;33m,\u001b[0m \u001b[1;36m4\u001b[0m \u001b[1;33m+\u001b[0m \u001b[1;36m1\u001b[0m\u001b[1;33m)\u001b[0m\u001b[1;33m\u001b[0m\u001b[1;33m\u001b[0m\u001b[0m\n\u001b[1;32m----> 3\u001b[1;33m \u001b[0mrslt_dict\u001b[0m \u001b[1;33m=\u001b[0m \u001b[0mload_it_or_compute_it\u001b[0m \u001b[1;33m(\u001b[0m\u001b[0mX\u001b[0m\u001b[1;33m,\u001b[0m \u001b[0my\u001b[0m\u001b[1;33m,\u001b[0m \u001b[1;34m\"poly\"\u001b[0m\u001b[1;33m,\u001b[0m \u001b[1;36m10\u001b[0m\u001b[1;33m,\u001b[0m \u001b[1;33m{\u001b[0m\u001b[1;34m\"c_vals\"\u001b[0m\u001b[1;33m:\u001b[0m\u001b[0mc_vals\u001b[0m\u001b[1;33m,\u001b[0m \u001b[1;34m\"d_vals\"\u001b[0m\u001b[1;33m:\u001b[0m\u001b[0md_vals\u001b[0m\u001b[1;33m}\u001b[0m\u001b[1;33m)\u001b[0m\u001b[1;33m\u001b[0m\u001b[1;33m\u001b[0m\u001b[0m\n\u001b[0m\u001b[0;32m      4\u001b[0m \u001b[0mvalue_list\u001b[0m \u001b[1;33m=\u001b[0m \u001b[0mlist\u001b[0m\u001b[1;33m(\u001b[0m\u001b[0mrslt_dict\u001b[0m\u001b[1;33m.\u001b[0m\u001b[0mitems\u001b[0m\u001b[1;33m(\u001b[0m\u001b[1;33m)\u001b[0m\u001b[1;33m)\u001b[0m\u001b[1;33m\u001b[0m\u001b[1;33m\u001b[0m\u001b[0m\n",
      "\u001b[1;31mNameError\u001b[0m: name 'load_it_or_compute_it' is not defined"
     ]
    }
   ],
   "source": [
    "c_vals     = np.power(float(5), range(-5, 5 + 1))\n",
    "d_vals     = range( 1, 4 + 1)\n",
    "rslt_dict = load_it_or_compute_it (X, y, \"poly\", 10, {\"c_vals\":c_vals, \"d_vals\":d_vals})\n",
    "value_list = list(rslt_dict.items())"
   ]
  },
  {
   "cell_type": "code",
   "execution_count": 4,
   "metadata": {},
   "outputs": [
    {
     "ename": "NameError",
     "evalue": "name 'value_list' is not defined",
     "output_type": "error",
     "traceback": [
      "\u001b[1;31m---------------------------------------------------------------------------\u001b[0m",
      "\u001b[1;31mNameError\u001b[0m                                 Traceback (most recent call last)",
      "\u001b[1;32m<ipython-input-4-91b1b94e5924>\u001b[0m in \u001b[0;36m<module>\u001b[1;34m\u001b[0m\n\u001b[1;32m----> 1\u001b[1;33m \u001b[0mtest_list\u001b[0m \u001b[1;33m=\u001b[0m \u001b[0mnp\u001b[0m\u001b[1;33m.\u001b[0m\u001b[0mreshape\u001b[0m\u001b[1;33m(\u001b[0m\u001b[0mvalue_list\u001b[0m\u001b[1;33m,\u001b[0m\u001b[1;33m(\u001b[0m\u001b[1;36m11\u001b[0m\u001b[1;33m,\u001b[0m \u001b[1;36m8\u001b[0m\u001b[1;33m)\u001b[0m\u001b[1;33m)\u001b[0m\u001b[1;33m\u001b[0m\u001b[1;33m\u001b[0m\u001b[0m\n\u001b[0m\u001b[0;32m      2\u001b[0m \u001b[0mtest_list\u001b[0m \u001b[1;33m=\u001b[0m \u001b[0mnp\u001b[0m\u001b[1;33m.\u001b[0m\u001b[0mdelete\u001b[0m\u001b[1;33m(\u001b[0m\u001b[0mtest_list\u001b[0m\u001b[1;33m,\u001b[0m \u001b[1;33m[\u001b[0m\u001b[1;36m0\u001b[0m \u001b[1;33m,\u001b[0m\u001b[1;36m2\u001b[0m\u001b[1;33m,\u001b[0m \u001b[1;36m4\u001b[0m\u001b[1;33m,\u001b[0m \u001b[1;36m6\u001b[0m\u001b[1;33m]\u001b[0m\u001b[1;33m,\u001b[0m \u001b[0maxis\u001b[0m \u001b[1;33m=\u001b[0m \u001b[1;36m1\u001b[0m\u001b[1;33m)\u001b[0m\u001b[1;33m\u001b[0m\u001b[1;33m\u001b[0m\u001b[0m\n\u001b[0;32m      3\u001b[0m \u001b[1;31m#test_list = np.asfarray(test_list,float)\u001b[0m\u001b[1;33m\u001b[0m\u001b[1;33m\u001b[0m\u001b[1;33m\u001b[0m\u001b[0m\n\u001b[0;32m      4\u001b[0m \u001b[0mprint\u001b[0m\u001b[1;33m(\u001b[0m\u001b[0mtest_list\u001b[0m\u001b[1;33m)\u001b[0m\u001b[1;33m\u001b[0m\u001b[1;33m\u001b[0m\u001b[0m\n",
      "\u001b[1;31mNameError\u001b[0m: name 'value_list' is not defined"
     ]
    }
   ],
   "source": [
    "test_list = np.reshape(value_list,(11, 8))\n",
    "test_list = np.delete(test_list, [0 ,2, 4, 6], axis = 1)\n",
    "#test_list = np.asfarray(test_list,float)\n",
    "print(test_list)"
   ]
  },
  {
   "cell_type": "markdown",
   "metadata": {},
   "source": [
    "Q1b"
   ]
  },
  {
   "cell_type": "code",
   "execution_count": 1,
   "metadata": {},
   "outputs": [],
   "source": [
    "import matplotlib.pyplot as plt\n",
    "plt.rcParams.update({'font.size':18})\n",
    "import numpy as np\n",
    "\n",
    "y_label = np.linspace(0,1.0,num=11)\n",
    "\n",
    "def plot_errorC(c_vals, list):\n",
    "    plt.figure(figsize = (16,10))\n",
    "    plt.plot(range(len(c_vals)), [(np.mean(i[0][0])-np.std(i[0][0])) for i in list], color = 'b', label='d = 1')\n",
    "    plt.plot(range(len(c_vals)), [(np.mean(i[1][0])-np.std(i[1][0])) for i in list], color = 'r', label='d = 2')\n",
    "    plt.plot(range(len(c_vals)), [(np.mean(i[2][0])-np.std(i[2][0])) for i in list], color = 'c', label='d = 3')\n",
    "    plt.plot(range(len(c_vals)), [(np.mean(i[3][0])-np.std(i[3][0])) for i in list], color = 'y', label='d = 4')\n",
    "    \n",
    "    plt.title('SVM Cross-Validation Error for Penalty Parameter C')\n",
    "    plt.xlabel('C')\n",
    "    ##plt.yticks(range(len(y_label)), y_label)\n",
    "    plt.ylabel('Error')\n",
    "    plt.xticks(range(len(c_vals)), c_vals, rotation='vertical')\n",
    "    plt.legend(loc = 'best')\n",
    "    plt.show()"
   ]
  },
  {
   "cell_type": "code",
   "execution_count": 2,
   "metadata": {},
   "outputs": [
    {
     "ename": "NameError",
     "evalue": "name 'c_vals' is not defined",
     "output_type": "error",
     "traceback": [
      "\u001b[1;31m---------------------------------------------------------------------------\u001b[0m",
      "\u001b[1;31mNameError\u001b[0m                                 Traceback (most recent call last)",
      "\u001b[1;32m<ipython-input-2-5982cf655bd7>\u001b[0m in \u001b[0;36m<module>\u001b[1;34m\u001b[0m\n\u001b[1;32m----> 1\u001b[1;33m \u001b[0mplot_errorC\u001b[0m\u001b[1;33m(\u001b[0m\u001b[0mc_vals\u001b[0m\u001b[1;33m,\u001b[0m \u001b[0mtest_list\u001b[0m\u001b[1;33m)\u001b[0m\u001b[1;33m\u001b[0m\u001b[1;33m\u001b[0m\u001b[0m\n\u001b[0m",
      "\u001b[1;31mNameError\u001b[0m: name 'c_vals' is not defined"
     ]
    }
   ],
   "source": [
    "plot_errorC(c_vals, test_list)"
   ]
  },
  {
   "cell_type": "markdown",
   "metadata": {},
   "source": [
    "Q1c"
   ]
  },
  {
   "cell_type": "code",
   "execution_count": 5,
   "metadata": {},
   "outputs": [
    {
     "ename": "NameError",
     "evalue": "name 'test_list' is not defined",
     "output_type": "error",
     "traceback": [
      "\u001b[1;31m---------------------------------------------------------------------------\u001b[0m",
      "\u001b[1;31mNameError\u001b[0m                                 Traceback (most recent call last)",
      "\u001b[1;32m<ipython-input-5-69371dec8581>\u001b[0m in \u001b[0;36m<module>\u001b[1;34m\u001b[0m\n\u001b[0;32m      6\u001b[0m \u001b[0merror_d\u001b[0m\u001b[1;33m=\u001b[0m\u001b[1;33m[\u001b[0m\u001b[1;33m]\u001b[0m\u001b[1;33m\u001b[0m\u001b[1;33m\u001b[0m\u001b[0m\n\u001b[0;32m      7\u001b[0m \u001b[1;32mfor\u001b[0m \u001b[0mi\u001b[0m \u001b[1;32min\u001b[0m \u001b[0mrange\u001b[0m\u001b[1;33m(\u001b[0m\u001b[1;36m4\u001b[0m\u001b[1;33m)\u001b[0m\u001b[1;33m:\u001b[0m\u001b[1;33m\u001b[0m\u001b[1;33m\u001b[0m\u001b[0m\n\u001b[1;32m----> 8\u001b[1;33m     \u001b[0merror_d\u001b[0m\u001b[1;33m.\u001b[0m\u001b[0mappend\u001b[0m\u001b[1;33m(\u001b[0m\u001b[0mnp\u001b[0m\u001b[1;33m.\u001b[0m\u001b[0mmean\u001b[0m\u001b[1;33m(\u001b[0m\u001b[0mtest_list\u001b[0m\u001b[1;33m[\u001b[0m\u001b[0moc_index\u001b[0m\u001b[1;33m]\u001b[0m\u001b[1;33m[\u001b[0m\u001b[0mi\u001b[0m\u001b[1;33m]\u001b[0m\u001b[1;33m[\u001b[0m\u001b[1;36m0\u001b[0m\u001b[1;33m]\u001b[0m\u001b[1;33m)\u001b[0m\u001b[1;33m)\u001b[0m\u001b[1;33m\u001b[0m\u001b[1;33m\u001b[0m\u001b[0m\n\u001b[0m\u001b[0;32m      9\u001b[0m \u001b[0my_label\u001b[0m \u001b[1;33m=\u001b[0m \u001b[0mnp\u001b[0m\u001b[1;33m.\u001b[0m\u001b[0mlinspace\u001b[0m\u001b[1;33m(\u001b[0m\u001b[1;36m0\u001b[0m\u001b[1;33m,\u001b[0m\u001b[1;36m1.0\u001b[0m\u001b[1;33m,\u001b[0m\u001b[0mnum\u001b[0m\u001b[1;33m=\u001b[0m\u001b[1;36m11\u001b[0m\u001b[1;33m)\u001b[0m\u001b[1;33m\u001b[0m\u001b[1;33m\u001b[0m\u001b[0m\n\u001b[0;32m     10\u001b[0m \u001b[1;33m\u001b[0m\u001b[0m\n",
      "\u001b[1;31mNameError\u001b[0m: name 'test_list' is not defined"
     ]
    }
   ],
   "source": [
    "import matplotlib.pyplot as plt\n",
    "plt.rcParams.update({'font.size':18})\n",
    "import numpy as np\n",
    "\n",
    "oc_index = 6\n",
    "error_d=[]\n",
    "for i in range(4):   \n",
    "    error_d.append(np.mean(test_list[oc_index][i][0]))\n",
    "y_label = np.linspace(0,1.0,num=11)\n",
    "\n",
    "##print_list = float(float(list[10][1::2]))\n",
    "def plot_errord(d_vals, list):\n",
    "    plt.figure(figsize = (16,10))\n",
    "    plt.plot(range(len(d_vals)), (error_d), color = 'black')\n",
    "    \n",
    "    plt.title('SVM Error vs Degree d')\n",
    "    plt.xlabel('d')\n",
    "    ##plt.yticks(range(len(y_label)), y_label)\n",
    "    plt.ylabel('Error')\n",
    "    plt.xticks(range(len(d_vals)), d_vals)\n",
    "    plt.show()"
   ]
  },
  {
   "cell_type": "code",
   "execution_count": 6,
   "metadata": {},
   "outputs": [
    {
     "ename": "NameError",
     "evalue": "name 'plot_errord' is not defined",
     "output_type": "error",
     "traceback": [
      "\u001b[1;31m---------------------------------------------------------------------------\u001b[0m",
      "\u001b[1;31mNameError\u001b[0m                                 Traceback (most recent call last)",
      "\u001b[1;32m<ipython-input-6-95661052edf0>\u001b[0m in \u001b[0;36m<module>\u001b[1;34m\u001b[0m\n\u001b[1;32m----> 1\u001b[1;33m \u001b[0mplot_errord\u001b[0m\u001b[1;33m(\u001b[0m\u001b[0md_vals\u001b[0m\u001b[1;33m,\u001b[0m \u001b[0mtest_list\u001b[0m\u001b[1;33m)\u001b[0m\u001b[1;33m\u001b[0m\u001b[1;33m\u001b[0m\u001b[0m\n\u001b[0m",
      "\u001b[1;31mNameError\u001b[0m: name 'plot_errord' is not defined"
     ]
    }
   ],
   "source": [
    "plot_errord(d_vals, test_list)"
   ]
  },
  {
   "cell_type": "markdown",
   "metadata": {},
   "source": [
    "Q1d"
   ]
  },
  {
   "cell_type": "code",
   "execution_count": 96,
   "metadata": {},
   "outputs": [],
   "source": [
    "import matplotlib.pyplot as plt\n",
    "plt.rcParams.update({'font.size':18})\n",
    "import numpy as np\n",
    "\n",
    "#svn_d=[]\n",
    "#for j in range(4):   \n",
    "#    svn_d.append([(np.mean(i[j][1]) for i in test_list)])\n",
    "svn_d = [np.mean([(i[0][1]) for i in test_list]),np.mean([(i[1][1]) for i in test_list]), np.mean([(i[2][1]) for i in test_list]), np.mean([(i[3][1]) for i in test_list])]\n",
    "\n",
    "y_label = np.linspace(0,1.0,num=11)\n",
    "\n",
    "##print_list = float(float(list[10][1::2]))\n",
    "def plot_svnd(d_vals, list):\n",
    "    plt.figure(figsize = (16,10))\n",
    "    plt.plot(range(len(d_vals)), (svn_d), color = 'black')\n",
    "    \n",
    "    plt.title('Average number of support vectors for Polynomial Degree d')\n",
    "    plt.xlabel('d')\n",
    "    ##plt.yticks(range(len(y_label)), y_label)\n",
    "    plt.ylabel('number of support vectors')\n",
    "    plt.xticks(range(len(d_vals)), d_vals)\n",
    "    plt.show()"
   ]
  },
  {
   "cell_type": "code",
   "execution_count": 98,
   "metadata": {},
   "outputs": [
    {
     "data": {
      "image/png": "[encoded data removed]",
      "text/plain": [
       "<Figure size 1152x720 with 1 Axes>"
      ]
     },
     "metadata": {
      "needs_background": "light"
     },
     "output_type": "display_data"
    }
   ],
   "source": [
    "plot_svnd(d_vals, test_list)"
   ]
  },
  {
   "cell_type": "markdown",
   "metadata": {},
   "source": [
    "Q1e"
   ]
  },
  {
   "cell_type": "code",
   "execution_count": 100,
   "metadata": {},
   "outputs": [
    {
     "name": "stdout",
     "output_type": "stream",
     "text": [
      "Number of support vectors lie on the margin hyperplanes: 69.600000\n"
     ]
    }
   ],
   "source": [
    "oc_index = 6\n",
    "od_index = 1\n",
    "print('Number of support vectors lie on the margin hyperplanes: %f'%test_list[oc_index][od_index][2])"
   ]
  }
 ],
 "metadata": {
  "kernelspec": {
   "display_name": "Python 3",
   "language": "python",
   "name": "python3"
  },
  "language_info": {
   "codemirror_mode": {
    "name": "ipython",
    "version": 3
   },
   "file_extension": ".py",
   "mimetype": "text/x-python",
   "name": "python",
   "nbconvert_exporter": "python",
   "pygments_lexer": "ipython3",
   "version": "3.7.3"
  }
 },
 "nbformat": 4,
 "nbformat_minor": 2
}
