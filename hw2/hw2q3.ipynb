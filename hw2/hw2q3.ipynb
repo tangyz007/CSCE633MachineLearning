{
 "cells": [
  {
   "cell_type": "code",
   "execution_count": null,
   "metadata": {},
   "outputs": [],
   "source": [
    "#problem 3(a)"
   ]
  },
  {
   "cell_type": "code",
   "execution_count": 81,
   "metadata": {},
   "outputs": [],
   "source": [
    "import pandas as pd\n",
    "import numpy as np\n"
   ]
  },
  {
   "cell_type": "code",
   "execution_count": 82,
   "metadata": {},
   "outputs": [],
   "source": [
    "df=pd.read_csv(\"hw2_question3.csv\")#index_col=9"
   ]
  },
  {
   "cell_type": "code",
   "execution_count": 83,
   "metadata": {},
   "outputs": [
    {
     "data": {
      "text/html": [
       "<div>\n",
       "<style scoped>\n",
       "    .dataframe tbody tr th:only-of-type {\n",
       "        vertical-align: middle;\n",
       "    }\n",
       "\n",
       "    .dataframe tbody tr th {\n",
       "        vertical-align: top;\n",
       "    }\n",
       "\n",
       "    .dataframe thead th {\n",
       "        text-align: right;\n",
       "    }\n",
       "</style>\n",
       "<table border=\"1\" class=\"dataframe\">\n",
       "  <thead>\n",
       "    <tr style=\"text-align: right;\">\n",
       "      <th></th>\n",
       "      <th>feature1</th>\n",
       "      <th>feature2</th>\n",
       "      <th>feature3</th>\n",
       "      <th>feature4</th>\n",
       "      <th>feature5</th>\n",
       "      <th>feature6</th>\n",
       "      <th>feature7</th>\n",
       "      <th>feature8</th>\n",
       "      <th>feature9</th>\n",
       "      <th>Class</th>\n",
       "    </tr>\n",
       "  </thead>\n",
       "  <tbody>\n",
       "    <tr>\n",
       "      <th>0</th>\n",
       "      <td>5</td>\n",
       "      <td>1</td>\n",
       "      <td>1</td>\n",
       "      <td>1</td>\n",
       "      <td>2</td>\n",
       "      <td>1</td>\n",
       "      <td>3</td>\n",
       "      <td>1</td>\n",
       "      <td>1</td>\n",
       "      <td>2</td>\n",
       "    </tr>\n",
       "    <tr>\n",
       "      <th>1</th>\n",
       "      <td>5</td>\n",
       "      <td>4</td>\n",
       "      <td>4</td>\n",
       "      <td>5</td>\n",
       "      <td>7</td>\n",
       "      <td>10</td>\n",
       "      <td>3</td>\n",
       "      <td>2</td>\n",
       "      <td>1</td>\n",
       "      <td>2</td>\n",
       "    </tr>\n",
       "    <tr>\n",
       "      <th>2</th>\n",
       "      <td>3</td>\n",
       "      <td>1</td>\n",
       "      <td>1</td>\n",
       "      <td>1</td>\n",
       "      <td>2</td>\n",
       "      <td>2</td>\n",
       "      <td>3</td>\n",
       "      <td>1</td>\n",
       "      <td>1</td>\n",
       "      <td>2</td>\n",
       "    </tr>\n",
       "    <tr>\n",
       "      <th>3</th>\n",
       "      <td>6</td>\n",
       "      <td>8</td>\n",
       "      <td>8</td>\n",
       "      <td>1</td>\n",
       "      <td>3</td>\n",
       "      <td>4</td>\n",
       "      <td>3</td>\n",
       "      <td>7</td>\n",
       "      <td>1</td>\n",
       "      <td>2</td>\n",
       "    </tr>\n",
       "    <tr>\n",
       "      <th>4</th>\n",
       "      <td>4</td>\n",
       "      <td>1</td>\n",
       "      <td>1</td>\n",
       "      <td>3</td>\n",
       "      <td>2</td>\n",
       "      <td>1</td>\n",
       "      <td>3</td>\n",
       "      <td>1</td>\n",
       "      <td>1</td>\n",
       "      <td>2</td>\n",
       "    </tr>\n",
       "    <tr>\n",
       "      <th>5</th>\n",
       "      <td>8</td>\n",
       "      <td>10</td>\n",
       "      <td>10</td>\n",
       "      <td>8</td>\n",
       "      <td>7</td>\n",
       "      <td>10</td>\n",
       "      <td>9</td>\n",
       "      <td>7</td>\n",
       "      <td>1</td>\n",
       "      <td>4</td>\n",
       "    </tr>\n",
       "    <tr>\n",
       "      <th>6</th>\n",
       "      <td>1</td>\n",
       "      <td>1</td>\n",
       "      <td>1</td>\n",
       "      <td>1</td>\n",
       "      <td>2</td>\n",
       "      <td>10</td>\n",
       "      <td>3</td>\n",
       "      <td>1</td>\n",
       "      <td>1</td>\n",
       "      <td>2</td>\n",
       "    </tr>\n",
       "    <tr>\n",
       "      <th>7</th>\n",
       "      <td>2</td>\n",
       "      <td>1</td>\n",
       "      <td>2</td>\n",
       "      <td>1</td>\n",
       "      <td>2</td>\n",
       "      <td>1</td>\n",
       "      <td>3</td>\n",
       "      <td>1</td>\n",
       "      <td>1</td>\n",
       "      <td>2</td>\n",
       "    </tr>\n",
       "    <tr>\n",
       "      <th>8</th>\n",
       "      <td>2</td>\n",
       "      <td>1</td>\n",
       "      <td>1</td>\n",
       "      <td>1</td>\n",
       "      <td>2</td>\n",
       "      <td>1</td>\n",
       "      <td>1</td>\n",
       "      <td>1</td>\n",
       "      <td>5</td>\n",
       "      <td>2</td>\n",
       "    </tr>\n",
       "    <tr>\n",
       "      <th>9</th>\n",
       "      <td>4</td>\n",
       "      <td>2</td>\n",
       "      <td>1</td>\n",
       "      <td>1</td>\n",
       "      <td>2</td>\n",
       "      <td>1</td>\n",
       "      <td>2</td>\n",
       "      <td>1</td>\n",
       "      <td>1</td>\n",
       "      <td>2</td>\n",
       "    </tr>\n",
       "  </tbody>\n",
       "</table>\n",
       "</div>"
      ],
      "text/plain": [
       "   feature1  feature2  feature3  feature4  feature5  feature6  feature7  \\\n",
       "0         5         1         1         1         2         1         3   \n",
       "1         5         4         4         5         7        10         3   \n",
       "2         3         1         1         1         2         2         3   \n",
       "3         6         8         8         1         3         4         3   \n",
       "4         4         1         1         3         2         1         3   \n",
       "5         8        10        10         8         7        10         9   \n",
       "6         1         1         1         1         2        10         3   \n",
       "7         2         1         2         1         2         1         3   \n",
       "8         2         1         1         1         2         1         1   \n",
       "9         4         2         1         1         2         1         2   \n",
       "\n",
       "   feature8  feature9  Class  \n",
       "0         1         1      2  \n",
       "1         2         1      2  \n",
       "2         1         1      2  \n",
       "3         7         1      2  \n",
       "4         1         1      2  \n",
       "5         7         1      4  \n",
       "6         1         1      2  \n",
       "7         1         1      2  \n",
       "8         1         5      2  \n",
       "9         1         1      2  "
      ]
     },
     "execution_count": 83,
     "metadata": {},
     "output_type": "execute_result"
    }
   ],
   "source": [
    "df.head(10)"
   ]
  },
  {
   "cell_type": "code",
   "execution_count": 84,
   "metadata": {},
   "outputs": [
    {
     "name": "stdout",
     "output_type": "stream",
     "text": [
      "<class 'pandas.core.frame.DataFrame'>\n",
      "RangeIndex: 683 entries, 0 to 682\n",
      "Data columns (total 10 columns):\n",
      "feature1    683 non-null int64\n",
      "feature2    683 non-null int64\n",
      "feature3    683 non-null int64\n",
      "feature4    683 non-null int64\n",
      "feature5    683 non-null int64\n",
      "feature6    683 non-null int64\n",
      "feature7    683 non-null int64\n",
      "feature8    683 non-null int64\n",
      "feature9    683 non-null int64\n",
      "Class       683 non-null int64\n",
      "dtypes: int64(10)\n",
      "memory usage: 53.4 KB\n"
     ]
    }
   ],
   "source": [
    "df.info()"
   ]
  },
  {
   "cell_type": "code",
   "execution_count": null,
   "metadata": {},
   "outputs": [],
   "source": []
  },
  {
   "cell_type": "code",
   "execution_count": 85,
   "metadata": {},
   "outputs": [
    {
     "data": {
      "text/plain": [
       "2    444\n",
       "4    239\n",
       "Name: Class, dtype: int64"
      ]
     },
     "execution_count": 85,
     "metadata": {},
     "output_type": "execute_result"
    }
   ],
   "source": [
    "df.Class.value_counts()"
   ]
  },
  {
   "cell_type": "code",
   "execution_count": 86,
   "metadata": {},
   "outputs": [
    {
     "data": {
      "text/plain": [
       "2    0.650073\n",
       "4    0.349927\n",
       "Name: Class, dtype: float64"
      ]
     },
     "execution_count": 86,
     "metadata": {},
     "output_type": "execute_result"
    }
   ],
   "source": [
    "df.Class.value_counts(2)"
   ]
  },
  {
   "cell_type": "code",
   "execution_count": 87,
   "metadata": {},
   "outputs": [],
   "source": [
    "x=df.drop('Class', axis=1)\n",
    "# x.head(5)"
   ]
  },
  {
   "cell_type": "code",
   "execution_count": 88,
   "metadata": {},
   "outputs": [],
   "source": [
    "y = df['Class']\n",
    "# y.head(5)"
   ]
  },
  {
   "cell_type": "code",
   "execution_count": 89,
   "metadata": {},
   "outputs": [],
   "source": [
    "from sklearn.model_selection import train_test_split\n",
    "\n",
    "x_train, x_test, y_train, y_test = train_test_split(x, y, test_size = 0.33)"
   ]
  },
  {
   "cell_type": "code",
   "execution_count": 90,
   "metadata": {},
   "outputs": [
    {
     "data": {
      "text/plain": [
       "2    0.643326\n",
       "4    0.356674\n",
       "Name: Class, dtype: float64"
      ]
     },
     "execution_count": 90,
     "metadata": {},
     "output_type": "execute_result"
    }
   ],
   "source": [
    "y_train.value_counts(2)"
   ]
  },
  {
   "cell_type": "code",
   "execution_count": 91,
   "metadata": {},
   "outputs": [
    {
     "data": {
      "text/plain": [
       "2    0.663717\n",
       "4    0.336283\n",
       "Name: Class, dtype: float64"
      ]
     },
     "execution_count": 91,
     "metadata": {},
     "output_type": "execute_result"
    }
   ],
   "source": [
    "y_test.value_counts(2)"
   ]
  },
  {
   "cell_type": "code",
   "execution_count": 92,
   "metadata": {},
   "outputs": [],
   "source": [
    "#Problem 3(b):"
   ]
  },
  {
   "cell_type": "code",
   "execution_count": 93,
   "metadata": {},
   "outputs": [
    {
     "name": "stdout",
     "output_type": "stream",
     "text": [
      "gini:  1.0\n",
      "entropy 0.9996747967479674\n"
     ]
    }
   ],
   "source": [
    "from sklearn import tree\n",
    "from sklearn.model_selection import StratifiedKFold\n",
    "from sklearn.metrics import accuracy_score\n",
    "from sklearn.metrics import roc_auc_score\n",
    "from sklearn import metrics\n",
    "# from sklearn.model_selection import model\n",
    "giniTrainingAcc=[]\n",
    "entropyTrainingAcc=[]\n",
    "\n",
    "giniAccuracy=[]\n",
    "entropyAccuracy=[]\n",
    "skf=StratifiedKFold(n_splits=10, shuffle=True)\n",
    "for train_index, test_index in skf.split(x, y):# get train data and test data from original training data\n",
    "    x_training, x_testing = x.iloc[train_index], x.iloc[test_index]\n",
    "    y_training, y_testing = y.iloc[train_index].values.ravel(), y.iloc[test_index].values.ravel()\n",
    "    modelEntropy = tree.DecisionTreeClassifier(criterion ='entropy',max_depth  =10)# criterion ='entropy'\n",
    "    modelGini = tree.DecisionTreeClassifier(max_depth  =10)#default criterion ='gini'\n",
    "    modelGini.fit(x_training, y_training)\n",
    "    modelEntropy.fit(x_training, y_training)\n",
    "    giniAccuracy.append(modelGini.score(x_testing,y_testing))\n",
    "    entropyAccuracy.append(modelEntropy.score(x_testing,y_testing))\n",
    "\n",
    "#     y_train_predict = modelEntropy.predict(x_train)\n",
    "#     accuracy_score(y_train, y_train_predict)\n",
    "#     y_train_predict = modelEntropy.predict(x_training)\n",
    "#     print(\"accuracy training each fold \",accuracy_score(y_training, y_train_predict))\n",
    "\n",
    "#     y_test_predict = modelEntropy.predict(x_test)\n",
    "#     print(\"entropy accuracy training each fold \",accuracy_score(y_test, y_test_predict))\n",
    "#     print(\"gini accuracy training each fold \",accuracy_score(y_test, modelGini.predict(x_test)))\n",
    "#     print(modelEntropy.score(x_testing,y_testing))\n",
    "#     print(modelGini.score(x_testing,y_testing))\n",
    "#     print(modelGini.score(x_training,y_training))\n",
    "#     print(roc_auc_score(y_training, modelGini.predict(x_training)))\n",
    "#     print(roc_auc_score(y_testing, modelGini.predict(x_testing)))\n",
    "    giniTrainingAcc.append(metrics.accuracy_score(y_training, modelGini.predict(x_training)))\n",
    "    entropyTrainingAcc.append(metrics.accuracy_score(y_training, modelEntropy.predict(x_training)))\n",
    "print(\"gini: \",np.mean(giniTrainingAcc))\n",
    "print(\"entropy\",np.mean(entropyTrainingAcc))\n",
    "# print(\"gini: \",np.mean(giniAccuracy))\n",
    "# print(\"entropy\",np.mean(entropyAccuracy))\n",
    "\n"
   ]
  },
  {
   "cell_type": "code",
   "execution_count": 94,
   "metadata": {},
   "outputs": [
    {
     "data": {
      "image/png": "[encoded data removed]",
      "text/plain": [
       "<Figure size 432x288 with 1 Axes>"
      ]
     },
     "metadata": {
      "needs_background": "light"
     },
     "output_type": "display_data"
    },
    {
     "data": {
      "image/png": "[encoded data removed]",
      "text/plain": [
       "<Figure size 432x288 with 1 Axes>"
      ]
     },
     "metadata": {
      "needs_background": "light"
     },
     "output_type": "display_data"
    }
   ],
   "source": [
    "import matplotlib.pyplot as plt\n",
    "depth=[1,2,3,4,5,6,7,8,9,10]\n",
    "giniAcc=[0.9295566510764731,0.9546134677536123,0.9656719758618543,0.9772243737698176,0.9850345491483173,0.9923534812424142,0.9957697086288093,0.9991867253267905,0.9995119302984561,0.9998371335504885]\n",
    "entropyAcc=[0.9274428299382617,0.9297237478233743,0.9669749065981289,0.9746238027484552,0.9837326785658398,0.9895884591296523,0.9952813741037703,0.9985357900355517,0.9983731884095354,0.9996745319244724]\n",
    "plt.bar(depth,giniAcc)\n",
    "plt.ylabel('accuracy')\n",
    "plt.xlabel('depth')\n",
    "plt.title('gini training accuracy vs depth')\n",
    "plt.show()\n",
    "plt.bar(depth,entropyAcc)\n",
    "plt.ylabel('accuracy')\n",
    "plt.xlabel('depth')\n",
    "plt.title('entropy training accuracy vs depth')\n",
    "plt.show()"
   ]
  },
  {
   "cell_type": "code",
   "execution_count": 95,
   "metadata": {},
   "outputs": [],
   "source": [
    "def gini(x,y,n):\n",
    "    giniAccuracy=[]\n",
    "    entropyAccuracy=[]\n",
    "    skf=StratifiedKFold(n_splits=10, shuffle=True)\n",
    "    for train_index, test_index in skf.split(x, y):# get train data and test data from original training data\n",
    "        x_training, x_testing = x.iloc[train_index], x.iloc[test_index]\n",
    "        y_training, y_testing = y.iloc[train_index].values.ravel(), y.iloc[test_index].values.ravel()\n",
    "        \n",
    "        modelGini = tree.DecisionTreeClassifier(max_depth =n)#default criterion ='gini'\n",
    "        modelGini.fit(x_training, y_training)\n",
    "       \n",
    "        giniAccuracy.append(modelGini.score(x_testing,y_testing))\n",
    "    return np.mean(giniAccuracy)\n",
    "        \n",
    "def entropy(x,y,n):\n",
    "    giniAccuracy=[]\n",
    "    entropyAccuracy=[]\n",
    "    skf=StratifiedKFold(n_splits=10, shuffle=True)\n",
    "    for train_index, test_index in skf.split(x, y):# get train data and test data from original training data\n",
    "        x_training, x_testing = x.iloc[train_index], x.iloc[test_index]\n",
    "        y_training, y_testing = y.iloc[train_index].values.ravel(), y.iloc[test_index].values.ravel()\n",
    "        modelEntropy = tree.DecisionTreeClassifier(criterion ='entropy',max_depth =n)# criterion ='entropy'\n",
    "       \n",
    "        modelEntropy.fit(x_training, y_training)\n",
    "#         giniAccuracy.append(modelGini.score(x_testing,y_testing))\n",
    "        entropyAccuracy.append(modelEntropy.score(x_testing,y_testing))\n",
    "    return np.mean(entropyAccuracy)"
   ]
  },
  {
   "cell_type": "code",
   "execution_count": 96,
   "metadata": {},
   "outputs": [],
   "source": [
    "depth=[]\n",
    "acc=[]\n",
    "for a in range(1,200):\n",
    "    depth.append(a)\n",
    "    acc.append(gini(x,y,a))\n",
    "# print(gini(x,y,depth))\n",
    "# plt.plot(depth,acc)\n",
    "# plt.show()"
   ]
  },
  {
   "cell_type": "code",
   "execution_count": 97,
   "metadata": {},
   "outputs": [
    {
     "data": {
      "image/png": "[encoded data removed]",
      "text/plain": [
       "<Figure size 432x288 with 1 Axes>"
      ]
     },
     "metadata": {
      "needs_background": "light"
     },
     "output_type": "display_data"
    }
   ],
   "source": [
    "depth=[]\n",
    "acc=[]\n",
    "depth1=[]\n",
    "acc1=[]\n",
    "for b in range(1,20):\n",
    "    depth1.append(b)\n",
    "    acc1.append(entropy(x,y,b))\n",
    "    depth.append(b)\n",
    "    acc.append(gini(x,y,b))\n",
    "# print(entropy(x,y,depth1))\n",
    "plt.plot(depth,acc,label='gini')\n",
    "plt.plot(depth1,acc1,label='entropy')\n",
    "plt.legend()\n",
    "plt.show()\n",
    "# print(entropy(x,y,1))"
   ]
  },
  {
   "cell_type": "code",
   "execution_count": 98,
   "metadata": {},
   "outputs": [],
   "source": [
    "#problem 3(c)"
   ]
  },
  {
   "cell_type": "code",
   "execution_count": 99,
   "metadata": {},
   "outputs": [],
   "source": [
    "from sklearn.ensemble import RandomForestClassifier\n",
    "#number of estimator or tree numbers\n",
    "def randomforest(x,y,n):\n",
    "    Accuracy=[]\n",
    "    \n",
    "    skf=StratifiedKFold(n_splits=10, shuffle=True)\n",
    "    for train_index, test_index in skf.split(x, y):# get train data and test data from original training data\n",
    "        x_training, x_testing = x.iloc[train_index], x.iloc[test_index]\n",
    "        y_training, y_testing = y.iloc[train_index].values.ravel(), y.iloc[test_index].values.ravel()\n",
    "        clf=RandomForestClassifier(n_estimators=n)#max_depth =m\n",
    "        clf.fit(x_training,y_training)\n",
    "        \n",
    "       \n",
    "        Accuracy.append(clf.score(x_testing,y_testing))\n",
    "    return np.mean(Accuracy)\n",
    "#Create a Gaussian Classifier\n",
    "def randomforestDepth(x,y,n):\n",
    "    Accuracy=[]\n",
    "    \n",
    "    skf=StratifiedKFold(n_splits=10, shuffle=True)\n",
    "    for train_index, test_index in skf.split(x, y):# get train data and test data from original training data\n",
    "        x_training, x_testing = x.iloc[train_index], x.iloc[test_index]\n",
    "        y_training, y_testing = y.iloc[train_index].values.ravel(), y.iloc[test_index].values.ravel()\n",
    "        clf=RandomForestClassifier(n_estimators=42,max_depth=n)#max_depth =m\n",
    "        clf.fit(x_training,y_training)\n",
    "        \n",
    "       \n",
    "        Accuracy.append(clf.score(x_testing,y_testing))\n",
    "    return np.mean(Accuracy)"
   ]
  },
  {
   "cell_type": "code",
   "execution_count": 100,
   "metadata": {
    "scrolled": true
   },
   "outputs": [
    {
     "data": {
      "image/png": "[encoded data removed]",
      "text/plain": [
       "<Figure size 432x288 with 1 Axes>"
      ]
     },
     "metadata": {
      "needs_background": "light"
     },
     "output_type": "display_data"
    }
   ],
   "source": [
    "number=[]\n",
    "acc=[]\n",
    "# for a in range(1,200):\n",
    "#     number.append(a)\n",
    "#     acc.append(randomforest(x,y,a))\n",
    "# plt.plot(depth,acc,label='random forest')\n",
    "# plt.show()\n",
    "for a in range(1,50):\n",
    "    number.append(a)\n",
    "    acc.append(randomforest(x,y,a))\n",
    "#     print(randomforest(x,y,a))\n",
    "plt.plot(number,acc,label='random forest')\n",
    "plt.show()"
   ]
  },
  {
   "cell_type": "code",
   "execution_count": 101,
   "metadata": {},
   "outputs": [
    {
     "data": {
      "image/png": "[encoded data removed]",
      "text/plain": [
       "<Figure size 432x288 with 1 Axes>"
      ]
     },
     "metadata": {
      "needs_background": "light"
     },
     "output_type": "display_data"
    }
   ],
   "source": [
    "depth=[]\n",
    "acc1=[]\n",
    "for a in range(1,30):\n",
    "    depth.append(a)\n",
    "    acc1.append(randomforestDepth(x,y,a))\n",
    "#     print(randomforestDepth(x,y,a))\n",
    "plt.plot(depth,acc1,label='random forest depth')\n",
    "plt.show()"
   ]
  },
  {
   "cell_type": "code",
   "execution_count": 102,
   "metadata": {},
   "outputs": [
    {
     "name": "stdout",
     "output_type": "stream",
     "text": [
      "[0.02843826 0.31527117 0.3323368  0.0247512  0.0672571  0.08694528\n",
      " 0.09294791 0.04644275 0.00560954]\n",
      "[0.06374343 0.28109271 0.22770188 0.00944066 0.07780017 0.18131008\n",
      " 0.05552736 0.10194499 0.00143871]\n",
      "[0.03534983 0.34768483 0.1752062  0.0262991  0.09439376 0.14048968\n",
      " 0.1191572  0.05843124 0.00298815]\n",
      "[0.03775503 0.19235266 0.21341721 0.02644766 0.07477857 0.23987298\n",
      " 0.13914413 0.07384653 0.00238524]\n",
      "[0.0242946  0.34127522 0.28594551 0.01043803 0.13825302 0.09530485\n",
      " 0.07305938 0.02768612 0.00374328]\n",
      "[0.02267183 0.26323026 0.2320405  0.01043162 0.08540096 0.24626275\n",
      " 0.1032437  0.03413019 0.00258819]\n",
      "[0.02083815 0.36049419 0.20369688 0.00231356 0.06477674 0.23462231\n",
      " 0.07562564 0.03579092 0.0018416 ]\n",
      "[0.04488614 0.2890412  0.14616123 0.03524398 0.06959917 0.20756028\n",
      " 0.14446857 0.06154663 0.00149281]\n",
      "[0.0400549  0.3765894  0.13364368 0.0100585  0.1524836  0.17584574\n",
      " 0.07213764 0.03648239 0.00270415]\n",
      "[0.04622065 0.26683182 0.23822731 0.01387007 0.03719809 0.15804561\n",
      " 0.14546684 0.09266088 0.00147872]\n",
      "0.9721428026109858\n"
     ]
    }
   ],
   "source": [
    "Accuracy=[]\n",
    "    \n",
    "skf=StratifiedKFold(n_splits=10, shuffle=True)\n",
    "for train_index, test_index in skf.split(x, y):# get train data and test data from original training data\n",
    "    x_training, x_testing = x.iloc[train_index], x.iloc[test_index]\n",
    "    y_training, y_testing = y.iloc[train_index].values.ravel(), y.iloc[test_index].values.ravel()\n",
    "    clf=RandomForestClassifier(n_estimators=42,max_depth=3)\n",
    "    clf.fit(x_training,y_training)\n",
    "#     feature_importance = clf.feature_importances_\n",
    "    print(clf.feature_importances_)    \n",
    "       \n",
    "    Accuracy.append(clf.score(x_testing,y_testing))\n",
    "print(np.mean(Accuracy)) "
   ]
  },
  {
   "cell_type": "code",
   "execution_count": 57,
   "metadata": {
    "scrolled": true
   },
   "outputs": [
    {
     "name": "stdout",
     "output_type": "stream",
     "text": [
      "[0.04267401 0.28351855 0.24688894 0.02314009 0.07786273 0.16884456\n",
      " 0.12125924 0.03185489 0.00395698]\n"
     ]
    },
    {
     "data": {
      "text/plain": [
       "Text(0.5, 1.0, 'feature importance')"
      ]
     },
     "execution_count": 57,
     "metadata": {},
     "output_type": "execute_result"
    },
    {
     "data": {
      "image/png": "[encoded data removed]",
      "text/plain": [
       "<Figure size 432x288 with 1 Axes>"
      ]
     },
     "metadata": {
      "needs_background": "light"
     },
     "output_type": "display_data"
    }
   ],
   "source": [
    "clf=RandomForestClassifier(n_estimators=42,max_depth=3)#max_depth =m\n",
    "clf.fit(x_training,y_training)\n",
    "feature_importance = clf.feature_importances_\n",
    "print(feature_importance)\n",
    "# print(np.sum(feature_importance))\n",
    "feature=[\"Clump Thickness\",\"Uniformity of Cell Size:\",\"Uniformity of Cell Shape\",\"Marginal Adhesion\",\"Single Epithelial Cell Size\",\"Bare Nuclei\",\"Bland Chromatin\",\"Normal Nucleoli\",\"Mitoses\"]\n",
    "fig, ax = plt.subplots()\n",
    "ypos=np.arange(len(feature))\n",
    "ax.barh(ypos,feature_importance,align='center')\n",
    "ax.set_yticks(ypos)\n",
    "ax.set_yticklabels(feature)\n",
    "ax.invert_yaxis()  # labels read top-to-bottom\n",
    "ax.set_xlabel('feature importance')\n",
    "ax.set_title('feature importance')"
   ]
  },
  {
   "cell_type": "code",
   "execution_count": null,
   "metadata": {},
   "outputs": [],
   "source": []
  },
  {
   "cell_type": "code",
   "execution_count": null,
   "metadata": {},
   "outputs": [],
   "source": []
  },
  {
   "cell_type": "code",
   "execution_count": null,
   "metadata": {},
   "outputs": [],
   "source": []
  },
  {
   "cell_type": "code",
   "execution_count": null,
   "metadata": {},
   "outputs": [],
   "source": []
  }
 ],
 "metadata": {
  "kernelspec": {
   "display_name": "Python 3",
   "language": "python",
   "name": "python3"
  },
  "language_info": {
   "codemirror_mode": {
    "name": "ipython",
    "version": 3
   },
   "file_extension": ".py",
   "mimetype": "text/x-python",
   "name": "python",
   "nbconvert_exporter": "python",
   "pygments_lexer": "ipython3",
   "version": "3.7.3"
  }
 },
 "nbformat": 4,
 "nbformat_minor": 2
}
